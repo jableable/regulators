{
 "cells": [
  {
   "cell_type": "code",
   "execution_count": 2,
   "metadata": {},
   "outputs": [],
   "source": [
    "import os\n",
    "import pandas as pd\n",
    "import matplotlib.pyplot as plt\n",
    "from pysyncon import Dataprep, Synth, AugSynth\n",
    "import itertools\n",
    "import numpy as np\n",
    "import timeit"
   ]
  },
  {
   "cell_type": "code",
   "execution_count": 14,
   "metadata": {},
   "outputs": [],
   "source": [
    "first_score1 = pd.read_csv(\"first-search/hyperSearch_scores_1.csv\")\n",
    "first_score2 = pd.read_csv(\"first-search/hyperSearch_scores_2.csv\")\n",
    "first_score3 = pd.read_csv(\"first-search/hyperSearch_scores_3.csv\")\n",
    "first_score4 = pd.read_csv(\"first-search/hyperSearch_scores_4.csv\")\n",
    "first_score5 = pd.read_csv(\"first-search/hyperSearch_scores_5.csv\")\n",
    "\n",
    "score = pd.concat([first_score1,first_score2,first_score3,first_score4,first_score5])"
   ]
  },
  {
   "cell_type": "code",
   "execution_count": null,
   "metadata": {},
   "outputs": [
    {
     "name": "stdout",
     "output_type": "stream",
     "text": [
      "['monthly_emissions', 'gdp_rel_2017_interp', 'monthly_energy_use', 'monthly_pop_density', 'monthly_emissions_sma'] - 0.009302756248826\n",
      "['tavg', 'monthly_energy_use', 'monthly_pop_density', 'monthly_emissions_sma'] - 0.0096283285579694\n",
      "['monthly_energy_flow', 'monthly_fossil_pct', 'monthly_pop_density', 'monthly_emissions_sma'] - 0.0098485641004681\n",
      "['monthly_emissions', 'tavg', 'monthly_energy_use', 'monthly_pop_density'] - 0.0105696867935981\n",
      "['monthly_emissions', 'tavg', 'gdp_rel_2017_interp', 'monthly_pop_density', 'monthly_emissions_sma'] - 0.0105735446379791\n"
     ]
    }
   ],
   "source": [
    "first_best_scores = score.sort_values(by='AvgLossSyn')\n",
    "\n",
    "for i in range(1,6):\n",
    "    result = str(best_scores.iloc[i].Features) + \" - \" + str(best_scores.iloc[i].AvgLossSyn)\n",
    "    print(result)"
   ]
  },
  {
   "cell_type": "code",
   "execution_count": 19,
   "metadata": {},
   "outputs": [],
   "source": [
    "co2_2 = pd.read_csv(\"co2-special/DE-NY-TX-hyperSearch_scores_2.csv\")\n",
    "co2_3 = pd.read_csv(\"co2-special/DE-NY-TX-hyperSearch_scores_3.csv\")\n",
    "co2_4 = pd.read_csv(\"co2-special/DE-NY-TX-hyperSearch_scores_4.csv\")\n",
    "co2_5 = pd.read_csv(\"co2-special/DE-NY-TX-hyperSearch_scores_5.csv\")\n",
    "\n",
    "co2_score = pd.concat([co2_2,co2_3,co2_4,co2_5])"
   ]
  },
  {
   "cell_type": "code",
   "execution_count": 20,
   "metadata": {},
   "outputs": [
    {
     "name": "stdout",
     "output_type": "stream",
     "text": [
      "['tavg', 'monthly_renew_pct'] - 0.0024010173330463\n",
      "['tavg', 'monthly_pop_density'] - 0.0024165270260593\n",
      "['tavg', 'monthly_energy_prod', 'monthly_renew_pct'] - 0.0024231321280974\n",
      "['snow', 'tavg', 'monthly_energy_flow', 'monthly_renew_pct'] - 0.0024588504842239\n",
      "['snow', 'tavg', 'monthly_renew_pct'] - 0.0025391147902977\n"
     ]
    }
   ],
   "source": [
    "co2_best_scores = co2_score.sort_values(by='AvgLossSyn')\n",
    "\n",
    "for i in range(1,6):\n",
    "    result = str(co2_best_scores.iloc[i].Features) + \" - \" + str(co2_best_scores.iloc[i].AvgLossSyn)\n",
    "    print(result)"
   ]
  },
  {
   "cell_type": "code",
   "execution_count": 22,
   "metadata": {},
   "outputs": [],
   "source": [
    "co2_91_1 = pd.read_csv(\"co2-special-91to09/DE-NY-TX-91to09_scores_1.csv\")\n",
    "co2_91_2 = pd.read_csv(\"co2-special-91to09/DE-NY-TX-91to09_scores_2.csv\")\n",
    "co2_91_3 = pd.read_csv(\"co2-special-91to09/DE-NY-TX-91to09_scores_3.csv\")\n",
    "co2_91_4 = pd.read_csv(\"co2-special-91to09/DE-NY-TX-91to09_scores_4.csv\")\n",
    "\n",
    "co2_91_score = pd.concat([co2_91_1,co2_91_2,co2_91_3,co2_91_4])"
   ]
  },
  {
   "cell_type": "code",
   "execution_count": 23,
   "metadata": {},
   "outputs": [
    {
     "name": "stdout",
     "output_type": "stream",
     "text": [
      "['snow', 'tavg', 'monthly_energy_prod', 'monthly_fossil_pct'] - 0.0035459306512151\n",
      "['tavg', 'monthly_energy_prod', 'monthly_fossil_pct'] - 0.0035957466539138\n",
      "['snow', 'monthly_energy_prod'] - 0.0036136708440676\n",
      "['monthly_emissions', 'tavg', 'monthly_energy_prod', 'monthly_emissions_sma'] - 0.0037021176549431\n",
      "['monthly_emissions', 'tavg', 'monthly_energy_prod', 'monthly_energy_use'] - 0.0037254791831964\n"
     ]
    }
   ],
   "source": [
    "co2_91_best_scores = co2_91_score.sort_values(by='AvgLossSyn')\n",
    "\n",
    "for i in range(1,6):\n",
    "    result = str(co2_91_best_scores.iloc[i].Features) + \" - \" + str(co2_91_best_scores.iloc[i].AvgLossSyn)\n",
    "    print(result)"
   ]
  }
 ],
 "metadata": {
  "kernelspec": {
   "display_name": "regulators",
   "language": "python",
   "name": "python3"
  },
  "language_info": {
   "codemirror_mode": {
    "name": "ipython",
    "version": 3
   },
   "file_extension": ".py",
   "mimetype": "text/x-python",
   "name": "python",
   "nbconvert_exporter": "python",
   "pygments_lexer": "ipython3",
   "version": "3.12.9"
  }
 },
 "nbformat": 4,
 "nbformat_minor": 2
}
