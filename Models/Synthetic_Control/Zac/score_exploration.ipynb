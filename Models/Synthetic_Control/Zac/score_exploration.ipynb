{
 "cells": [
  {
   "cell_type": "code",
   "execution_count": 1,
   "metadata": {},
   "outputs": [],
   "source": [
    "import os\n",
    "import pandas as pd\n",
    "import matplotlib.pyplot as plt\n",
    "from pysyncon import Dataprep, Synth, AugSynth\n",
    "import itertools\n",
    "import numpy as np\n",
    "import timeit"
   ]
  },
  {
   "cell_type": "code",
   "execution_count": 3,
   "metadata": {},
   "outputs": [],
   "source": [
    "score1 = pd.read_csv(\"hyperSearch_scores_1.csv\")\n",
    "score2 = pd.read_csv(\"hyperSearch_scores_2.csv\")\n",
    "score3 = pd.read_csv(\"hyperSearch_scores_3.csv\")\n",
    "score4 = pd.read_csv(\"hyperSearch_scores_4.csv\")\n",
    "score5 = pd.read_csv(\"hyperSearch_scores_5.csv\")\n",
    "\n",
    "score = pd.concat([score1,score2,score3,score4,score5])"
   ]
  },
  {
   "cell_type": "code",
   "execution_count": 11,
   "metadata": {},
   "outputs": [
    {
     "name": "stdout",
     "output_type": "stream",
     "text": [
      "['monthly_emissions', 'gdp_rel_2017_interp', 'monthly_energy_use', 'monthly_pop_density', 'monthly_emissions_sma'] - 0.009302756248826\n",
      "['tavg', 'monthly_energy_use', 'monthly_pop_density', 'monthly_emissions_sma'] - 0.0096283285579694\n",
      "['monthly_energy_flow', 'monthly_fossil_pct', 'monthly_pop_density', 'monthly_emissions_sma'] - 0.0098485641004681\n",
      "['monthly_emissions', 'tavg', 'monthly_energy_use', 'monthly_pop_density'] - 0.0105696867935981\n",
      "['monthly_emissions', 'tavg', 'gdp_rel_2017_interp', 'monthly_pop_density', 'monthly_emissions_sma'] - 0.0105735446379791\n"
     ]
    }
   ],
   "source": [
    "best_scores = score.sort_values(by='AvgLossSyn')\n",
    "\n",
    "for i in range(1,6):\n",
    "    result = str(best_scores.iloc[i].Features) + \" - \" + str(best_scores.iloc[i].AvgLossSyn)\n",
    "    print(result)"
   ]
  }
 ],
 "metadata": {
  "kernelspec": {
   "display_name": "regulators",
   "language": "python",
   "name": "python3"
  },
  "language_info": {
   "codemirror_mode": {
    "name": "ipython",
    "version": 3
   },
   "file_extension": ".py",
   "mimetype": "text/x-python",
   "name": "python",
   "nbconvert_exporter": "python",
   "pygments_lexer": "ipython3",
   "version": "3.12.9"
  }
 },
 "nbformat": 4,
 "nbformat_minor": 2
}
