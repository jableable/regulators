{
 "cells": [
  {
   "cell_type": "code",
   "execution_count": 1,
   "metadata": {},
   "outputs": [],
   "source": [
    "import pandas as pd\n",
    "from my_pysyncon import Dataprep, Synth"
   ]
  },
  {
   "cell_type": "code",
   "execution_count": 2,
   "metadata": {},
   "outputs": [],
   "source": [
    "df_mo = pd.read_csv('../../../Dataset_Generation/Jared/Data/total_state_data.csv')\n",
    "df_mo['co2_per_capita'] = df_mo['total_co2'] / df_mo['population']\n",
    "df_mo['gdp_per_capita'] = df_mo['gdp_rel_2017'] / df_mo['population']\n",
    "df_mo['eprod_per_capita'] = df_mo['energy_prod'] / df_mo['population']\n",
    "df_mo['eflow_per_capita'] = df_mo['energy_flow'] / df_mo['population']\n",
    "\n",
    "df_yr = pd.read_csv('../../../Dataset_Generation/Jared/Data/yearly_total_data.csv')\n",
    "df_yr['co2_per_capita'] = df_yr['total_co2'] / df_yr['population']\n",
    "df_yr['gdp_per_capita'] = df_yr['gdp_rel_2017'] / df_yr['population']"
   ]
  },
  {
   "cell_type": "code",
   "execution_count": 15,
   "metadata": {},
   "outputs": [
    {
     "data": {
      "text/html": [
       "<div>\n",
       "<style scoped>\n",
       "    .dataframe tbody tr th:only-of-type {\n",
       "        vertical-align: middle;\n",
       "    }\n",
       "\n",
       "    .dataframe tbody tr th {\n",
       "        vertical-align: top;\n",
       "    }\n",
       "\n",
       "    .dataframe thead th {\n",
       "        text-align: right;\n",
       "    }\n",
       "</style>\n",
       "<table border=\"1\" class=\"dataframe\">\n",
       "  <thead>\n",
       "    <tr style=\"text-align: right;\">\n",
       "      <th></th>\n",
       "      <th>state</th>\n",
       "      <th>date</th>\n",
       "      <th>population</th>\n",
       "      <th>total_co2</th>\n",
       "      <th>prcp</th>\n",
       "      <th>snow</th>\n",
       "      <th>tavg</th>\n",
       "      <th>gdp_rel_2017</th>\n",
       "      <th>energy_prod</th>\n",
       "      <th>energy_use</th>\n",
       "      <th>energy_flow</th>\n",
       "      <th>co2_per_capita</th>\n",
       "      <th>gdp_per_capita</th>\n",
       "      <th>eprod_per_capita</th>\n",
       "      <th>eflow_per_capita</th>\n",
       "    </tr>\n",
       "  </thead>\n",
       "  <tbody>\n",
       "    <tr>\n",
       "      <th>0</th>\n",
       "      <td>AL</td>\n",
       "      <td>1990-01-01</td>\n",
       "      <td>4050055.0</td>\n",
       "      <td>4.262280e+06</td>\n",
       "      <td>7.89</td>\n",
       "      <td>0.0</td>\n",
       "      <td>46.8</td>\n",
       "      <td>NaN</td>\n",
       "      <td>1269484.0</td>\n",
       "      <td>1599432.0</td>\n",
       "      <td>-329948.0</td>\n",
       "      <td>1.052401</td>\n",
       "      <td>NaN</td>\n",
       "      <td>0.313449</td>\n",
       "      <td>-0.081468</td>\n",
       "    </tr>\n",
       "    <tr>\n",
       "      <th>1</th>\n",
       "      <td>AL</td>\n",
       "      <td>1990-02-01</td>\n",
       "      <td>4050055.0</td>\n",
       "      <td>3.698828e+06</td>\n",
       "      <td>9.35</td>\n",
       "      <td>0.0</td>\n",
       "      <td>51.9</td>\n",
       "      <td>NaN</td>\n",
       "      <td>1269484.0</td>\n",
       "      <td>1599432.0</td>\n",
       "      <td>-329948.0</td>\n",
       "      <td>0.913278</td>\n",
       "      <td>NaN</td>\n",
       "      <td>0.313449</td>\n",
       "      <td>-0.081468</td>\n",
       "    </tr>\n",
       "    <tr>\n",
       "      <th>2</th>\n",
       "      <td>AL</td>\n",
       "      <td>1990-03-01</td>\n",
       "      <td>4050055.0</td>\n",
       "      <td>3.780858e+06</td>\n",
       "      <td>8.92</td>\n",
       "      <td>0.0</td>\n",
       "      <td>54.2</td>\n",
       "      <td>NaN</td>\n",
       "      <td>1269484.0</td>\n",
       "      <td>1599432.0</td>\n",
       "      <td>-329948.0</td>\n",
       "      <td>0.933533</td>\n",
       "      <td>NaN</td>\n",
       "      <td>0.313449</td>\n",
       "      <td>-0.081468</td>\n",
       "    </tr>\n",
       "    <tr>\n",
       "      <th>3</th>\n",
       "      <td>AL</td>\n",
       "      <td>1990-04-01</td>\n",
       "      <td>4050055.0</td>\n",
       "      <td>3.472907e+06</td>\n",
       "      <td>4.48</td>\n",
       "      <td>0.0</td>\n",
       "      <td>59.7</td>\n",
       "      <td>NaN</td>\n",
       "      <td>1269484.0</td>\n",
       "      <td>1599432.0</td>\n",
       "      <td>-329948.0</td>\n",
       "      <td>0.857496</td>\n",
       "      <td>NaN</td>\n",
       "      <td>0.313449</td>\n",
       "      <td>-0.081468</td>\n",
       "    </tr>\n",
       "    <tr>\n",
       "      <th>4</th>\n",
       "      <td>AL</td>\n",
       "      <td>1990-05-01</td>\n",
       "      <td>4050055.0</td>\n",
       "      <td>4.191628e+06</td>\n",
       "      <td>4.38</td>\n",
       "      <td>0.0</td>\n",
       "      <td>67.3</td>\n",
       "      <td>NaN</td>\n",
       "      <td>1269484.0</td>\n",
       "      <td>1599432.0</td>\n",
       "      <td>-329948.0</td>\n",
       "      <td>1.034956</td>\n",
       "      <td>NaN</td>\n",
       "      <td>0.313449</td>\n",
       "      <td>-0.081468</td>\n",
       "    </tr>\n",
       "  </tbody>\n",
       "</table>\n",
       "</div>"
      ],
      "text/plain": [
       "  state        date  population     total_co2  prcp  snow  tavg  gdp_rel_2017  \\\n",
       "0    AL  1990-01-01   4050055.0  4.262280e+06  7.89   0.0  46.8           NaN   \n",
       "1    AL  1990-02-01   4050055.0  3.698828e+06  9.35   0.0  51.9           NaN   \n",
       "2    AL  1990-03-01   4050055.0  3.780858e+06  8.92   0.0  54.2           NaN   \n",
       "3    AL  1990-04-01   4050055.0  3.472907e+06  4.48   0.0  59.7           NaN   \n",
       "4    AL  1990-05-01   4050055.0  4.191628e+06  4.38   0.0  67.3           NaN   \n",
       "\n",
       "   energy_prod  energy_use  energy_flow  co2_per_capita  gdp_per_capita  \\\n",
       "0    1269484.0   1599432.0    -329948.0        1.052401             NaN   \n",
       "1    1269484.0   1599432.0    -329948.0        0.913278             NaN   \n",
       "2    1269484.0   1599432.0    -329948.0        0.933533             NaN   \n",
       "3    1269484.0   1599432.0    -329948.0        0.857496             NaN   \n",
       "4    1269484.0   1599432.0    -329948.0        1.034956             NaN   \n",
       "\n",
       "   eprod_per_capita  eflow_per_capita  \n",
       "0          0.313449         -0.081468  \n",
       "1          0.313449         -0.081468  \n",
       "2          0.313449         -0.081468  \n",
       "3          0.313449         -0.081468  \n",
       "4          0.313449         -0.081468  "
      ]
     },
     "execution_count": 15,
     "metadata": {},
     "output_type": "execute_result"
    }
   ],
   "source": [
    "df_mo.head()"
   ]
  },
  {
   "cell_type": "code",
   "execution_count": null,
   "metadata": {},
   "outputs": [],
   "source": [
    "time_range = df_mo.date\n",
    "\n",
    "# these are the time values where CO2 emissions are fit\n",
    "preintervention_time_range = df_mo.date[df_mo.date<'2009-01-01']\n",
    "\n",
    "# these are the time values where our features are fit (subset of preintervention_time_range)\n",
    "preintervention_feature_range = df_mo.date[(df_mo.date >= '1997-01-01') & (df_mo.date<'2009-01-01')]"
   ]
  },
  {
   "attachments": {},
   "cell_type": "markdown",
   "metadata": {},
   "source": [
    "We prepare the study data using a `Dataprep` object that describes all the details needed to define the synthetic control study. This works similarly to the `dataprep` method in the `R` package `synth`.\n",
    "\n",
    "(For an explanation of each of the `Dataprep` arguments, see the package [documentation](https://sdfordham.github.io/pysyncon/dataprep.html#pysyncon.Dataprep))."
   ]
  },
  {
   "cell_type": "code",
   "execution_count": null,
   "metadata": {},
   "outputs": [],
   "source": [
    "# we leave off RGGI states, states with no CO2 data (AK, HI), as well as states with some type of cap-and-trade program (CA)\n",
    "\n",
    "non_rggi_controls_identifier= [\n",
    "    \"AL\", \n",
    "    #\"AK\", \n",
    "    \"AZ\", \"AR\", \n",
    "    #\"CA\", \n",
    "    \"CO\", \n",
    "    #\"CT\", \n",
    "    #\"DE\", \n",
    "    \"FL\", \"GA\",\n",
    "    #\"HI\", \n",
    "    \"ID\", \"IL\", \"IN\", \"IA\", \"KS\", \"KY\", \"LA\", \n",
    "    #\"ME\", \n",
    "    #\"MD\",\n",
    "    #\"MA\", \n",
    "    \"MI\", \"MN\", \"MS\", \"MO\", \"MT\", \"NE\", \"NV\", \n",
    "    #\"NH\", \n",
    "    #\"NJ\",\n",
    "    \"NM\", \"NC\", \"ND\", \"OH\", \"OK\", \"OR\", \"PA\", \n",
    "    #\"RI\", \n",
    "    \"SC\", \"SD\", \"TN\", \"TX\", \"UT\", \n",
    "    #\"VT\", \n",
    "    #\"VA\", \n",
    "    \"WA\", \"WV\", \"WI\", \"WY\"\n",
    "    ]"
   ]
  },
  {
   "cell_type": "code",
   "execution_count": null,
   "metadata": {},
   "outputs": [
    {
     "name": "stdout",
     "output_type": "stream",
     "text": [
      "Dataprep\n",
      "Treated unit: DE\n",
      "Dependent variable: co2_per_capita\n",
      "Control units: AL, AZ, AR, CO, FL, GA, ID, IL, IN, IA, KS, KY, LA, MI, MN, MS, MO, MT, NE, NV, NM, NC, ND, OH, OK, OR, PA, SC, SD, TN, TX, UT, WA, WV, WI, WY\n",
      "Time range in data: 1990-01-01 - 2024-12-01\n",
      "Time range for loss minimization: 0        1990-01-01\n",
      "1        1990-02-01\n",
      "2        1990-03-01\n",
      "3        1990-04-01\n",
      "4        1990-05-01\n",
      "            ...    \n",
      "20473    2008-08-01\n",
      "20474    2008-09-01\n",
      "20475    2008-10-01\n",
      "20476    2008-11-01\n",
      "20477    2008-12-01\n",
      "Name: date, Length: 11172, dtype: object\n",
      "Time range for predictors: 84       1997-01-01\n",
      "85       1997-02-01\n",
      "86       1997-03-01\n",
      "87       1997-04-01\n",
      "88       1997-05-01\n",
      "            ...    \n",
      "20473    2008-08-01\n",
      "20474    2008-09-01\n",
      "20475    2008-10-01\n",
      "20476    2008-11-01\n",
      "20477    2008-12-01\n",
      "Name: date, Length: 7056, dtype: object\n",
      "Predictors: prcp, snow, tavg, gdp_per_capita, eprod_per_capita, eflow_per_capita\n",
      "\n"
     ]
    }
   ],
   "source": [
    "# we create a synthetic control for Delaware\n",
    "\n",
    "dataprep_mo = Dataprep(\n",
    "    foo=df_mo,\n",
    "    predictors=['prcp', 'snow', 'tavg','gdp_per_capita','eprod_per_capita','eflow_per_capita'],\n",
    "    predictors_op=\"mean\",\n",
    "    time_predictors_prior=preintervention_feature_range,\n",
    "    dependent=\"co2_per_capita\",\n",
    "    unit_variable=\"state\",\n",
    "    time_variable=\"date\",\n",
    "    treatment_identifier=\"DE\",\n",
    "    controls_identifier= non_rggi_controls_identifier,\n",
    "    time_optimize_ssr=preintervention_time_range\n",
    ")\n",
    "\n",
    "print(dataprep_mo)"
   ]
  },
  {
   "cell_type": "markdown",
   "metadata": {},
   "source": [
    "\n",
    "We supply the `Dataprep` object to a `Synth` object. The optimisation scheme we could use is [BFGS](https://docs.scipy.org/doc/scipy/reference/optimize.minimize-bfgs.html) and the starting point we could use for the optimisation is `ols` i.e. the initial weights are obtained by fitting an ordinary-least-squares estimate. (Unlike the `R` package `synth` which performs four different runs under the hood (two different starting points and two different optimisation schemes), in this package only one optimisation is run per `fit`).\n",
    "\n",
    "*Nota bene that the weights obtained by the synthetic control method are often highly sensitive to the chosen optimisation scheme and starting point.*"
   ]
  },
  {
   "cell_type": "code",
   "execution_count": 10,
   "metadata": {},
   "outputs": [
    {
     "name": "stdout",
     "output_type": "stream",
     "text": [
      "IL    0.493\n",
      "MN    0.015\n",
      "NV    0.491\n",
      "Name: weights, dtype: float64\n"
     ]
    }
   ],
   "source": [
    "synth_mo = Synth()\n",
    "synth_mo.fit(dataprep=dataprep_mo)\n",
    "print(synth_mo.weights(threshold=.01))"
   ]
  },
  {
   "cell_type": "markdown",
   "metadata": {},
   "source": [
    "This is saying that Delaware is $49.3\\%$ Illinois, $49.1\\%$ Nevada, and $1.5\\%$ Minnesota (all other percentages are negligible).\n"
   ]
  },
  {
   "cell_type": "code",
   "execution_count": null,
   "metadata": {},
   "outputs": [],
   "source": [
    "# these are the dates used for our graph\n",
    "\n",
    "years= ['1990-01-01', '1991-01-01', '1992-01-01', '1993-01-01',\n",
    "        '1994-01-01', '1995-01-01', '1996-01-01', '1997-01-01', \n",
    "        '1998-01-01', '1999-01-01', '2000-01-01', '2001-01-01',\n",
    "        '2002-01-01', '2003-01-01', '2004-01-01', '2005-01-01', \n",
    "        '2006-01-01', '2007-01-01', '2008-01-01', '2009-01-01', \n",
    "        '2010-01-01', '2011-01-01', '2012-01-01', '2013-01-01', \n",
    "        '2014-01-01', '2015-01-01', '2016-01-01', '2017-01-01', \n",
    "        '2018-01-01', '2019-01-01', '2020-01-01']"
   ]
  },
  {
   "cell_type": "code",
   "execution_count": 13,
   "metadata": {},
   "outputs": [
    {
     "data": {
      "image/png": "[encoded data removed]",
      "text/plain": [
       "<Figure size 640x480 with 1 Axes>"
      ]
     },
     "metadata": {},
     "output_type": "display_data"
    }
   ],
   "source": [
    "synth_mo.path_plot(time_period=years, treatment_time='2009-01-01')"
   ]
  },
  {
   "cell_type": "markdown",
   "metadata": {},
   "source": [
    "The summary function give more information on the predictor values. The first column shows the value of the $V$ matrix for each predictor, the column 'treated' shows the mean value of each predictor for the treated unit over the time period `time_predictors_prior`, the column 'synthetic' shows the mean value of each predictor for the synthetic control over the time period `time_predictors_prior` and finally the column 'sample mean' shows the sample mean of that predictor for all control units over the time period `time_predictors_prior` i.e. this is the same as the synthetic control with all weights equal."
   ]
  },
  {
   "cell_type": "code",
   "execution_count": 16,
   "metadata": {},
   "outputs": [
    {
     "data": {
      "text/html": [
       "<div>\n",
       "<style scoped>\n",
       "    .dataframe tbody tr th:only-of-type {\n",
       "        vertical-align: middle;\n",
       "    }\n",
       "\n",
       "    .dataframe tbody tr th {\n",
       "        vertical-align: top;\n",
       "    }\n",
       "\n",
       "    .dataframe thead th {\n",
       "        text-align: right;\n",
       "    }\n",
       "</style>\n",
       "<table border=\"1\" class=\"dataframe\">\n",
       "  <thead>\n",
       "    <tr style=\"text-align: right;\">\n",
       "      <th></th>\n",
       "      <th>V</th>\n",
       "      <th>treated</th>\n",
       "      <th>synthetic</th>\n",
       "      <th>sample mean</th>\n",
       "    </tr>\n",
       "  </thead>\n",
       "  <tbody>\n",
       "    <tr>\n",
       "      <th>prcp</th>\n",
       "      <td>0.003</td>\n",
       "      <td>3.916</td>\n",
       "      <td>1.692</td>\n",
       "      <td>2.694</td>\n",
       "    </tr>\n",
       "    <tr>\n",
       "      <th>snow</th>\n",
       "      <td>0.435</td>\n",
       "      <td>0.829</td>\n",
       "      <td>0.810</td>\n",
       "      <td>1.660</td>\n",
       "    </tr>\n",
       "    <tr>\n",
       "      <th>tavg</th>\n",
       "      <td>0.003</td>\n",
       "      <td>57.259</td>\n",
       "      <td>60.021</td>\n",
       "      <td>56.197</td>\n",
       "    </tr>\n",
       "    <tr>\n",
       "      <th>gdp_per_capita</th>\n",
       "      <td>0.035</td>\n",
       "      <td>0.078</td>\n",
       "      <td>0.057</td>\n",
       "      <td>0.046</td>\n",
       "    </tr>\n",
       "    <tr>\n",
       "      <th>eprod_per_capita</th>\n",
       "      <td>0.322</td>\n",
       "      <td>0.002</td>\n",
       "      <td>0.080</td>\n",
       "      <td>0.798</td>\n",
       "    </tr>\n",
       "    <tr>\n",
       "      <th>eflow_per_capita</th>\n",
       "      <td>0.202</td>\n",
       "      <td>-0.354</td>\n",
       "      <td>-0.224</td>\n",
       "      <td>0.404</td>\n",
       "    </tr>\n",
       "  </tbody>\n",
       "</table>\n",
       "</div>"
      ],
      "text/plain": [
       "                      V  treated  synthetic  sample mean\n",
       "prcp              0.003    3.916      1.692        2.694\n",
       "snow              0.435    0.829      0.810        1.660\n",
       "tavg              0.003   57.259     60.021       56.197\n",
       "gdp_per_capita    0.035    0.078      0.057        0.046\n",
       "eprod_per_capita  0.322    0.002      0.080        0.798\n",
       "eflow_per_capita  0.202   -0.354     -0.224        0.404"
      ]
     },
     "execution_count": 16,
     "metadata": {},
     "output_type": "execute_result"
    }
   ],
   "source": [
    "synth_mo.summary()"
   ]
  }
 ],
 "metadata": {
  "kernelspec": {
   "display_name": "erdos_spring_2025",
   "language": "python",
   "name": "python3"
  },
  "language_info": {
   "codemirror_mode": {
    "name": "ipython",
    "version": 3
   },
   "file_extension": ".py",
   "mimetype": "text/x-python",
   "name": "python",
   "nbconvert_exporter": "python",
   "pygments_lexer": "ipython3",
   "version": "3.12.8"
  },
  "orig_nbformat": 4
 },
 "nbformat": 4,
 "nbformat_minor": 2
}
