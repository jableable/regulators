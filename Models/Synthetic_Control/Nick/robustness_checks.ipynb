{
 "cells": [
  {
   "cell_type": "code",
   "execution_count": 1,
   "id": "f7931ee1",
   "metadata": {},
   "outputs": [],
   "source": [
    "import pandas as pd\n",
    "import numpy as np\n",
    "import matplotlib.pyplot as plt\n",
    "import pmdarima as pm\n",
    "from pmdarima import auto_arima\n",
    "from pmdarima import model_selection\n"
   ]
  },
  {
   "cell_type": "markdown",
   "id": "bcb0cdd3",
   "metadata": {},
   "source": [
    "This notebook computes the normalized r-squared for the pre-treatment fit for each of our synthetic control models and fits the baseline ARIMA models for each of the models"
   ]
  },
  {
   "cell_type": "code",
   "execution_count": null,
   "id": "97d66e8f",
   "metadata": {},
   "outputs": [],
   "source": [
    "def normalized_r_squared(actual, preds):\n",
    "    return 1 - ((actual - preds)**2).sum() / ((actual - actual.mean())**2).sum()"
   ]
  },
  {
   "cell_type": "code",
   "execution_count": null,
   "id": "69586aa8",
   "metadata": {},
   "outputs": [],
   "source": [
    "r_squared = {}\n",
    "for state in rggi_states:\n",
    "    Z0,Z1=aug_synth_models[state][1].make_outcome_mats(time_period=years_sma) # Get the true values\n",
    "    ts_synth=aug_synth_models[state][0]._synthetic(Z0=Z0) # Get the synthetic control predictions\n",
    "    \n",
    "    Z1_pre_treat = Z1[Z1.index < treatment_date] # Restrict to pre-intervention period\n",
    "    ts_synth_pre_treat = ts_synth[ts_synth.index < treatment_date] \n",
    "\n",
    "    r_squareds[state] = normalized_r_squared(actual=Z1_pre_treat.values, preds=ts_synth_pre_treat.values).round(3)"
   ]
  },
  {
   "cell_type": "markdown",
   "id": "2a4355b2",
   "metadata": {},
   "source": [
    "We now compute a baseline ARIMA forecast for the moving average of per-capita emissions over the predicted period 2009-2013 for each state. We also calculate 95% confidence intervals. We then compare these intervals to the synthetic control estimator for each state."
   ]
  },
  {
   "cell_type": "code",
   "execution_count": null,
   "id": "30d1c3aa",
   "metadata": {},
   "outputs": [],
   "source": [
    "arima_models = {}\n",
    "treat_range = pd.date_range(start=treatment_date, end='2013-12-01', freq='MS').strftime('%Y-%m-%d').tolist()\n",
    "\n",
    "for state in rggi_states:\n",
    "    state_emissions = df_mo[(df_mo['state']==state) & (df_mo['date'] >= start_date & (df_mo['date'] <= '2013-12-01'))][['date','co2_per_capita_sma']]\n",
    "    # Make train-test split on the treatment date\n",
    "    train, test = model_selection.train_test_split(state_emissions, train_size=len(treat_range))\n",
    "    baseline_arima = auto_arima(train, trace=False)\n",
    "    # Get preds, conf_int, and test RMSE for each state\n",
    "    preds, conf_int = baseline_arima.predict(n_periods=len(test), return_conf_int=True)\n",
    "    rmse = np.sqrt(mean_squared_error(test['co2_per_capita_sma'],preds)))\n",
    "    arima_models[state]=baseline_arima,preds,conf_int,rmse\n",
    "    \n"
   ]
  },
  {
   "cell_type": "code",
   "execution_count": null,
   "id": "aae643f2",
   "metadata": {},
   "outputs": [],
   "source": [
    "for state in rggi_states:\n",
    "    # Get treatment range, predictions for each state, and confidence intervals for each state\n",
    "    pred_state = arima_models[state][1]\n",
    "    conf_int_state = arima_models[state][2]\n",
    "\n",
    "    # Plot the forecasts\n",
    "    aug_synth_models[state][0].path_plot(time_period=years_sma, treatment_time=treatment_dates_ma[0])\n",
    "    plt.plot(treat_range, pred_state, alpha=0.75, label='ARIMA forecast CO2 emissions')\n",
    "    plt.fill_between(treat_range,\n",
    "                conf_int_state[:, 0], conf_int_state[:, 1],\n",
    "                alpha=0.1, color='b', label='95% Confidence Interval for ARIMA forecast')\n",
    "    plt.title(f\"{state} CO2 emissions per capita\")\n",
    "    plt.legend(loc='upper right')\n",
    "    plt.ylabel(\"CO2 emissions per capita\")\n",
    "    print(\"{state} test RMSE for : %.3f\" % np.sqrt(mean_squared_error(test['co2_per_capita_sma'],pred_state)))\n",
    "    plt.xlabel(\"Year\") \n",
    "    "
   ]
  }
 ],
 "metadata": {
  "kernelspec": {
   "display_name": "Python (erdos_spring_2025)",
   "language": "python",
   "name": "erdos_spring_2025erdos"
  },
  "language_info": {
   "codemirror_mode": {
    "name": "ipython",
    "version": 3
   },
   "file_extension": ".py",
   "mimetype": "text/x-python",
   "name": "python",
   "nbconvert_exporter": "python",
   "pygments_lexer": "ipython3",
   "version": "3.12.9"
  }
 },
 "nbformat": 4,
 "nbformat_minor": 5
}
