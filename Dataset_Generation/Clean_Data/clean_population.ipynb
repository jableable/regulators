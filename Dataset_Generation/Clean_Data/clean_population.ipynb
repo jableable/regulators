{
 "cells": [
  {
   "cell_type": "code",
   "execution_count": 2,
   "metadata": {},
   "outputs": [],
   "source": [
    "# here, we convert population-1990-2020.csv into the proper timer series format and output population-1990-2020-final.csv\n",
    "\n",
    "import pandas as pd\n",
    "import warnings\n",
    "warnings.filterwarnings('ignore')\n",
    "\n",
    "df = pd.read_csv('../../SharedData/dataset-generation/pop-1990-2020.csv')\n",
    "#df.rename(columns={'Unnamed: 0': 'state'}, inplace=True)\n",
    "\n",
    "d = {'state':[], 'date':[], 'monthly_population':[], 'yearly_population':[]}\n",
    "new_df = pd.DataFrame(data=d)"
   ]
  },
  {
   "cell_type": "code",
   "execution_count": 3,
   "metadata": {},
   "outputs": [],
   "source": [
    "# change state names to be abbreviations\n",
    "\n",
    "full_names = [\n",
    "    \"Alabama\", \"Alaska\", \"Arizona\", \"Arkansas\", \"California\", \"Colorado\", \"Connecticut\", \"Delaware\", \"Florida\", \"Georgia\",\n",
    "    \"Hawaii\", \"Idaho\", \"Illinois\", \"Indiana\", \"Iowa\", \"Kansas\", \"Kentucky\", \"Louisiana\", \"Maine\", \"Maryland\",\n",
    "    \"Massachusetts\", \"Michigan\", \"Minnesota\", \"Mississippi\", \"Missouri\", \"Montana\", \"Nebraska\", \"Nevada\", \"New Hampshire\", \"New Jersey\",\n",
    "    \"New Mexico\", \"New York\", \"North Carolina\", \"North Dakota\", \"Ohio\", \"Oklahoma\", \"Oregon\", \"Pennsylvania\", \"Rhode Island\", \"South Carolina\",\n",
    "    \"South Dakota\", \"Tennessee\", \"Texas\", \"Utah\", \"Vermont\", \"Virginia\", \"Washington\", \"West Virginia\", \"Wisconsin\", \"Wyoming\"\n",
    "]\n",
    "\n",
    "abbreviations = [\n",
    "    \"AL\", \"AK\", \"AZ\", \"AR\", \"CA\", \"CO\", \"CT\", \"DE\", \"FL\", \"GA\",\n",
    "    \"HI\", \"ID\", \"IL\", \"IN\", \"IA\", \"KS\", \"KY\", \"LA\", \"ME\", \"MD\",\n",
    "    \"MA\", \"MI\", \"MN\", \"MS\", \"MO\", \"MT\", \"NE\", \"NV\", \"NH\", \"NJ\",\n",
    "    \"NM\", \"NY\", \"NC\", \"ND\", \"OH\", \"OK\", \"OR\", \"PA\", \"RI\", \"SC\",\n",
    "    \"SD\", \"TN\", \"TX\", \"UT\", \"VT\", \"VA\", \"WA\", \"WV\", \"WI\", \"WY\"\n",
    "]\n",
    "name_dict = {full_names[i]:abbreviations[i] for i in range(len(full_names))}\n",
    "\n",
    "df['state'] = df['state'].map(name_dict)"
   ]
  },
  {
   "cell_type": "code",
   "execution_count": 4,
   "metadata": {},
   "outputs": [],
   "source": [
    "# loop through each year in 1960-2022 in given row in dataframe\n",
    "# copy each year's energy data 12 times (one for each month) into 12 rows of new_df\n",
    "# for a total of 12*63*50 entries\n",
    "\n",
    "month_counter = 1   # acts like modulo 12 arithmetic\n",
    "idx = 0             # keeps track of row index\n",
    "\n",
    "for state in range(50):\n",
    "    for year in range(1,len(df.iloc[state])-1):\n",
    "        for month in range(12):\n",
    "            new_df.loc[idx] = [df.iloc[state][0],df.columns[year]+'-'+'{:02d}'.format(month_counter),None,df.iloc[state][year]] \n",
    "            if month_counter < 12:                       \n",
    "                if month_counter == 6:\n",
    "                    new_df.loc[idx] = [df.iloc[state][0],df.columns[year]+'-'+'{:02d}'.format(month_counter),df.iloc[state][year],df.iloc[state][year]]   \n",
    "                month_counter += 1\n",
    "            else:\n",
    "                month_counter = 1\n",
    "            idx += 1"
   ]
  },
  {
   "cell_type": "code",
   "execution_count": 5,
   "metadata": {},
   "outputs": [],
   "source": [
    "# get rid of commas\n",
    "new_df['yearly_population'] = new_df['yearly_population'].str.replace(',', '').astype(int)\n",
    "new_df['monthly_population'] = new_df['monthly_population'].apply(lambda x: int(str(x).replace(',', '')) if pd.notna(x) else x)\n",
    "#new_df['monthly_population'] = new_df['monthly_population'].astype(int)\n",
    "\n",
    "# linear interpolation to fill in months based on middle-of-year data\n",
    "\n",
    "for state in abbreviations:\n",
    "    new_df.loc[new_df.state == state,'monthly_population']=new_df[new_df.state == state].monthly_population.interpolate(method='linear')"
   ]
  },
  {
   "cell_type": "code",
   "execution_count": 6,
   "metadata": {},
   "outputs": [],
   "source": [
    "# export new_df to a .csv\n",
    "new_df.to_csv('../../SharedData/dataset-generation-final/population-1990-2020-final.csv')"
   ]
  }
 ],
 "metadata": {
  "kernelspec": {
   "display_name": "erdos_spring_2025",
   "language": "python",
   "name": "python3"
  },
  "language_info": {
   "codemirror_mode": {
    "name": "ipython",
    "version": 3
   },
   "file_extension": ".py",
   "mimetype": "text/x-python",
   "name": "python",
   "nbconvert_exporter": "python",
   "pygments_lexer": "ipython3",
   "version": "3.12.8"
  }
 },
 "nbformat": 4,
 "nbformat_minor": 2
}
