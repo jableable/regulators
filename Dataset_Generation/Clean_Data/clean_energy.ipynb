{
 "cells": [
  {
   "cell_type": "code",
   "execution_count": 9,
   "metadata": {},
   "outputs": [],
   "source": [
    "# here, we combine energy_use.csv and energy_production.csv into the proper timer series format and output energy_final.csv\n",
    "\n",
    "import pandas as pd\n",
    "import warnings\n",
    "warnings.filterwarnings('ignore')\n",
    "\n",
    "df_use = pd.read_csv('../../SharedData/dataset-generation/energy-use.csv')\n",
    "df_prod = pd.read_csv('../../SharedData/dataset-generation/energy-production.csv')\n",
    "\n",
    "d = {'state':[], 'date':[], 'monthly_energy_prod':[], 'monthly_energy_use':[], 'yearly_energy_prod':[], 'yearly_energy_use':[]}\n",
    "new_df = pd.DataFrame(data=d)"
   ]
  },
  {
   "cell_type": "code",
   "execution_count": 10,
   "metadata": {},
   "outputs": [],
   "source": [
    "abbreviations = [\n",
    "    \"AL\", \"AK\", \"AZ\", \"AR\", \"CA\", \"CO\", \"CT\", \"DE\", \"FL\", \"GA\",\n",
    "    \"HI\", \"ID\", \"IL\", \"IN\", \"IA\", \"KS\", \"KY\", \"LA\", \"ME\", \"MD\",\n",
    "    \"MA\", \"MI\", \"MN\", \"MS\", \"MO\", \"MT\", \"NE\", \"NV\", \"NH\", \"NJ\",\n",
    "    \"NM\", \"NY\", \"NC\", \"ND\", \"OH\", \"OK\", \"OR\", \"PA\", \"RI\", \"SC\",\n",
    "    \"SD\", \"TN\", \"TX\", \"UT\", \"VT\", \"VA\", \"WA\", \"WV\", \"WI\", \"WY\"\n",
    "]"
   ]
  },
  {
   "cell_type": "code",
   "execution_count": 11,
   "metadata": {},
   "outputs": [],
   "source": [
    "df_use = df_use[df_use['State'].isin(abbreviations)]\n",
    "df_prod = df_prod[df_prod['State'].isin(abbreviations)]"
   ]
  },
  {
   "cell_type": "code",
   "execution_count": 12,
   "metadata": {},
   "outputs": [],
   "source": [
    "# loop through each year in 1960-2022 in given row in dataframe\n",
    "# copy each year's energy data 12 times (one for each month) into 12 rows of new_df\n",
    "# for a total of 12*63*50 entries\n",
    "\n",
    "month_counter = 1   # acts like modulo 12 arithmetic\n",
    "idx = 0             # keeps track of row index\n",
    "\n",
    "for state in range(50):\n",
    "    for year in range(1,len(df_prod.iloc[state])):\n",
    "        for month in range(12):\n",
    "            if month_counter < 12:   \n",
    "                new_df.loc[idx] = [df_prod.iloc[state][0],\n",
    "                                   df_prod.columns[year]+'-'+'{:02d}'.format(month_counter),\n",
    "                                   None,\n",
    "                                   None,\n",
    "                                   df_prod.iloc[state][year], \n",
    "                                   df_use.iloc[state][year]]     \n",
    "                month_counter += 1\n",
    "            else:\n",
    "                new_df.loc[idx] = [df_prod.iloc[state][0],\n",
    "                    df_prod.columns[year]+'-'+'{:02d}'.format(month_counter),\n",
    "                    int(df_prod.iloc[state][year].replace(',', ''))/12, \n",
    "                    int(df_use.iloc[state][year].replace(',', ''))/12,\n",
    "                    df_prod.iloc[state][year], \n",
    "                    df_use.iloc[state][year]]     \n",
    "                month_counter = 1\n",
    "            idx += 1"
   ]
  },
  {
   "cell_type": "code",
   "execution_count": 13,
   "metadata": {},
   "outputs": [],
   "source": [
    "# clean up data by removing commas and converting to int\n",
    "\n",
    "new_df['yearly_energy_use'] = new_df['yearly_energy_use'].str.replace(',', '')\n",
    "new_df['yearly_energy_use'] = new_df['yearly_energy_use'].astype(int)\n",
    "\n",
    "new_df['yearly_energy_prod'] = new_df['yearly_energy_prod'].str.replace(',', '')\n",
    "new_df['yearly_energy_prod'] = new_df['yearly_energy_prod'].astype(int)"
   ]
  },
  {
   "cell_type": "code",
   "execution_count": 14,
   "metadata": {},
   "outputs": [],
   "source": [
    "# linear interpolation to fill in months based on end-of-year data\n",
    "# and create yearly_gdp_rel_2017 column\n",
    "\n",
    "for state in abbreviations:\n",
    "    new_df.loc[new_df.state == state,'monthly_energy_prod']=new_df[new_df.state == state].monthly_energy_prod.interpolate(method='linear')\n",
    "    new_df.loc[new_df.state == state,'monthly_energy_use']=new_df[new_df.state == state].monthly_energy_use.interpolate(method='linear')\n"
   ]
  },
  {
   "cell_type": "code",
   "execution_count": 15,
   "metadata": {},
   "outputs": [],
   "source": [
    "new_df['monthly_energy_flow'] = new_df['monthly_energy_prod']-new_df['monthly_energy_use']\n",
    "new_df['yearly_energy_flow'] = new_df['yearly_energy_prod']-new_df['yearly_energy_use']"
   ]
  },
  {
   "cell_type": "code",
   "execution_count": null,
   "metadata": {},
   "outputs": [],
   "source": [
    "# export new_df to a .csv\n",
    "new_df.to_csv('../../SharedData/dataset-generation-final/energy-use-prod-final.csv',index=False)"
   ]
  }
 ],
 "metadata": {
  "kernelspec": {
   "display_name": "erdos_spring_2025",
   "language": "python",
   "name": "python3"
  },
  "language_info": {
   "codemirror_mode": {
    "name": "ipython",
    "version": 3
   },
   "file_extension": ".py",
   "mimetype": "text/x-python",
   "name": "python",
   "nbconvert_exporter": "python",
   "pygments_lexer": "ipython3",
   "version": "3.12.8"
  }
 },
 "nbformat": 4,
 "nbformat_minor": 2
}
