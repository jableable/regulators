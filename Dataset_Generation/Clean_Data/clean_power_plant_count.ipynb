{
 "cells": [
  {
   "cell_type": "code",
   "execution_count": 11,
   "metadata": {},
   "outputs": [],
   "source": [
    "# here, we convert campd-monthly-emissions-facility-aggregation.csv \n",
    "# into the proper timer series format and output power_plant_count.csv\n",
    "\n",
    "import pandas as pd\n",
    "import warnings\n",
    "warnings.filterwarnings('ignore')\n",
    "\n",
    "df = pd.read_csv('../../SharedData/dataset-generation/campd-monthly-emissions-facility-aggregation.csv')"
   ]
  },
  {
   "cell_type": "code",
   "execution_count": 12,
   "metadata": {},
   "outputs": [],
   "source": [
    "abbreviations = [\n",
    "    \"AL\", \"AZ\", \"AR\", \"CA\", \"CO\", \"CT\", \"DE\", \"FL\", \"GA\",\n",
    "    \"ID\", \"IL\", \"IN\", \"IA\", \"KS\", \"KY\", \"LA\", \"ME\", \"MD\",\n",
    "    \"MA\", \"MI\", \"MN\", \"MS\", \"MO\", \"MT\", \"NE\", \"NV\", \"NH\", \"NJ\",\n",
    "    \"NM\", \"NY\", \"NC\", \"ND\", \"OH\", \"OK\", \"OR\", \"PA\", \"RI\", \"SC\",\n",
    "    \"SD\", \"TN\", \"TX\", \"UT\", \"VT\", \"VA\", \"WA\", \"WV\", \"WI\", \"WY\"\n",
    "]"
   ]
  },
  {
   "cell_type": "code",
   "execution_count": 13,
   "metadata": {},
   "outputs": [],
   "source": [
    "# calculate power plant ages in months\n",
    "\n",
    "df.sort_values(by=['State','Facility ID', 'Year','Month'], inplace=True)\n",
    "df['facility_age'] = df.groupby('Facility ID').cumcount() + 1"
   ]
  },
  {
   "cell_type": "code",
   "execution_count": 14,
   "metadata": {},
   "outputs": [],
   "source": [
    "df = df.dropna(subset=['Gross Load (MWh)', 'Steam Load (1000 lb)', 'SO2 Mass (short tons)', 'CO2 Mass (short tons)', 'NOx Mass (short tons)', 'Heat Input (mmBtu)'], how='all')\n",
    "df = df.drop(columns=['Gross Load (MWh)','Steam Load (1000 lb)', 'SO2 Mass (short tons)', 'CO2 Mass (short tons)', 'NOx Mass (short tons)', 'Heat Input (mmBtu)'])\n",
    "df = df.rename(columns={'State':'state', 'Year':'year', 'Month':'month','Facility ID':'id'})\n",
    "df = df[df.year >= 1997]"
   ]
  },
  {
   "cell_type": "code",
   "execution_count": 15,
   "metadata": {},
   "outputs": [],
   "source": [
    "# Count power plants each month and add up ages\n",
    "\n",
    "new_df = df.groupby(['year', 'month', 'state'],as_index=False).agg(\n",
    "    monthly_num_plants=('id', 'count'),\n",
    "    total_facility_age=('facility_age', 'sum')\n",
    ")\n",
    "new_df = new_df.rename(columns={'id':'monthly_num_plants'})\n",
    "\n",
    "# Date formatting\n",
    "\n",
    "new_df['date'] = new_df['year'].astype(str) + '-' + new_df['month'].astype(str).str.zfill(2)\n",
    "new_df['date'] = new_df['date'].apply(pd.to_datetime)\n",
    "new_df['date'] = new_df['date'].dt.strftime('%Y-%m')"
   ]
  },
  {
   "cell_type": "code",
   "execution_count": 16,
   "metadata": {},
   "outputs": [],
   "source": [
    "# Initialize yearly column\n",
    "\n",
    "new_df['yearly_num_plants'] = 0"
   ]
  },
  {
   "cell_type": "code",
   "execution_count": 17,
   "metadata": {},
   "outputs": [],
   "source": [
    "# Fill in yearly column by using data from month 12 of each year\n",
    "\n",
    "for state in abbreviations:\n",
    "    for year in range(1997,2021):\n",
    "        year_value = new_df.loc[(new_df.state==state)&(new_df.year==year)&(new_df.month==12),'monthly_num_plants']\n",
    "        new_df.loc[(new_df.state==state)&(new_df.year==year),'yearly_num_plants'] = year_value.values[0]"
   ]
  },
  {
   "cell_type": "code",
   "execution_count": 23,
   "metadata": {},
   "outputs": [
    {
     "data": {
      "text/html": [
       "<div>\n",
       "<style scoped>\n",
       "    .dataframe tbody tr th:only-of-type {\n",
       "        vertical-align: middle;\n",
       "    }\n",
       "\n",
       "    .dataframe tbody tr th {\n",
       "        vertical-align: top;\n",
       "    }\n",
       "\n",
       "    .dataframe thead th {\n",
       "        text-align: right;\n",
       "    }\n",
       "</style>\n",
       "<table border=\"1\" class=\"dataframe\">\n",
       "  <thead>\n",
       "    <tr style=\"text-align: right;\">\n",
       "      <th></th>\n",
       "      <th>state</th>\n",
       "      <th>date</th>\n",
       "      <th>monthly_num_plants</th>\n",
       "      <th>yearly_num_plants</th>\n",
       "      <th>total_facility_age</th>\n",
       "    </tr>\n",
       "  </thead>\n",
       "  <tbody>\n",
       "    <tr>\n",
       "      <th>0</th>\n",
       "      <td>AL</td>\n",
       "      <td>1997-01</td>\n",
       "      <td>11</td>\n",
       "      <td>10</td>\n",
       "      <td>95</td>\n",
       "    </tr>\n",
       "    <tr>\n",
       "      <th>1</th>\n",
       "      <td>AR</td>\n",
       "      <td>1997-01</td>\n",
       "      <td>7</td>\n",
       "      <td>6</td>\n",
       "      <td>7</td>\n",
       "    </tr>\n",
       "    <tr>\n",
       "      <th>2</th>\n",
       "      <td>AZ</td>\n",
       "      <td>1997-01</td>\n",
       "      <td>7</td>\n",
       "      <td>9</td>\n",
       "      <td>7</td>\n",
       "    </tr>\n",
       "    <tr>\n",
       "      <th>3</th>\n",
       "      <td>CA</td>\n",
       "      <td>1997-01</td>\n",
       "      <td>24</td>\n",
       "      <td>24</td>\n",
       "      <td>24</td>\n",
       "    </tr>\n",
       "    <tr>\n",
       "      <th>4</th>\n",
       "      <td>CO</td>\n",
       "      <td>1997-01</td>\n",
       "      <td>14</td>\n",
       "      <td>14</td>\n",
       "      <td>14</td>\n",
       "    </tr>\n",
       "  </tbody>\n",
       "</table>\n",
       "</div>"
      ],
      "text/plain": [
       "  state     date  monthly_num_plants  yearly_num_plants  total_facility_age\n",
       "0    AL  1997-01                  11                 10                  95\n",
       "1    AR  1997-01                   7                  6                   7\n",
       "2    AZ  1997-01                   7                  9                   7\n",
       "3    CA  1997-01                  24                 24                  24\n",
       "4    CO  1997-01                  14                 14                  14"
      ]
     },
     "execution_count": 23,
     "metadata": {},
     "output_type": "execute_result"
    }
   ],
   "source": [
    "# Reorganize columns and drop unnecessary ones\n",
    "new_df = new_df[['state', 'date', 'monthly_num_plants', 'yearly_num_plants', 'total_facility_age']]\n",
    "new_df.head()"
   ]
  },
  {
   "cell_type": "code",
   "execution_count": 24,
   "metadata": {},
   "outputs": [],
   "source": [
    "# export new_df to a .csv\n",
    "new_df.to_csv('../../SharedData/dataset-generation-final/power-plant-count-final.csv', index=False)"
   ]
  }
 ],
 "metadata": {
  "kernelspec": {
   "display_name": "erdos_spring_2025",
   "language": "python",
   "name": "python3"
  },
  "language_info": {
   "codemirror_mode": {
    "name": "ipython",
    "version": 3
   },
   "file_extension": ".py",
   "mimetype": "text/x-python",
   "name": "python",
   "nbconvert_exporter": "python",
   "pygments_lexer": "ipython3",
   "version": "3.12.8"
  }
 },
 "nbformat": 4,
 "nbformat_minor": 2
}
