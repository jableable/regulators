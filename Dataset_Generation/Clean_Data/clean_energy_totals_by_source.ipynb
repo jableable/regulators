{
 "cells": [
  {
   "cell_type": "code",
   "execution_count": 3,
   "metadata": {},
   "outputs": [],
   "source": [
    "# here, we put energy_totals_by_source.csv into proper format and output energy-by-source-final.csv\n",
    "# data obtained from https://www.eia.gov/electricity/data.php#generation\n",
    "\n",
    "import pandas as pd\n",
    "import numpy as np\n",
    "import warnings\n",
    "warnings.filterwarnings('ignore')\n",
    "\n",
    "df = pd.read_csv('../../SharedData/dataset-generation/energy_totals_by_source.csv')\n",
    "\n",
    "d = {'state':[], 'year':[], 'month':[], 'date':[],'monthly_energy_renew':[], 'monthly_energy_fossil':[], 'monthly_energy_coal':[], 'monthly_energy_total':[],'yearly_energy_renew':[], 'yearly_energy_fossil':[], 'yearly_energy_coal':[], 'yearly_energy_total':[]}\n",
    "new_df = pd.DataFrame(data=d)"
   ]
  },
  {
   "cell_type": "code",
   "execution_count": 4,
   "metadata": {},
   "outputs": [],
   "source": [
    "abbreviations = [\n",
    "    \"AL\", \"AZ\", \"AR\", \"CA\", \"CO\", \"CT\", \"DE\", \"FL\", \"GA\",\n",
    "    \"ID\", \"IL\", \"IN\", \"IA\", \"KS\", \"KY\", \"LA\", \"ME\", \"MD\",\n",
    "    \"MA\", \"MI\", \"MN\", \"MS\", \"MO\", \"MT\", \"NE\", \"NV\", \"NH\", \"NJ\",\n",
    "    \"NM\", \"NY\", \"NC\", \"ND\", \"OH\", \"OK\", \"OR\", \"PA\", \"RI\", \"SC\",\n",
    "    \"SD\", \"TN\", \"TX\", \"UT\", \"VT\", \"VA\", \"WA\", \"WV\", \"WI\", \"WY\"\n",
    "]"
   ]
  },
  {
   "cell_type": "code",
   "execution_count": 5,
   "metadata": {},
   "outputs": [],
   "source": [
    "# drop unnecessary columns and rename remaining columns\n",
    "\n",
    "df = df.drop(columns=['Unnamed: 5', 'Unnamed: 6', 'Unnamed: 7',\n",
    "       'Unnamed: 8', 'Unnamed: 9', 'Unnamed: 10'])\n",
    "df = df.rename(columns={'YEAR':'year','STATE':'state','TYPE OF PRODUCER':'type','ENERGY SOURCE':'source', 'GENERATION (Megawatthours)':'mwhrs'})\n",
    "\n",
    "# get rid of commas\n",
    "\n",
    "df['mwhrs'] = df['mwhrs'].str.replace(',', '').astype(int)\n"
   ]
  },
  {
   "cell_type": "code",
   "execution_count": 6,
   "metadata": {},
   "outputs": [],
   "source": [
    "renewable_source = ['Wind', 'Hydroelectric Conventional', 'Solar Thermal and Photovoltaic', 'Geothermal']\n",
    "fossil_source = ['Coal', 'Natural Gas', 'Petroleum']"
   ]
  },
  {
   "cell_type": "code",
   "execution_count": 7,
   "metadata": {},
   "outputs": [],
   "source": [
    "month_counter = 1   # acts like modulo 12 arithmetic\n",
    "idx = 0             # keeps track of row index\n",
    "\n",
    "for state in abbreviations:\n",
    "    for year in range(1990,2024):\n",
    "        fossil = df.loc[(df.state==state)&(df.year==year)&(df.type=='Total Electric Power Industry')&(df.source.isin(fossil_source))]['mwhrs'].sum().astype(int)\n",
    "        coal = df.loc[(df.state==state)&(df.year==year)&(df.type=='Total Electric Power Industry')&(df.source.isin(['Coal']))]['mwhrs'].sum().astype(int)\n",
    "        renew = df.loc[(df.state==state)&(df.year==year)&(df.type=='Total Electric Power Industry')&(df.source.isin(renewable_source))]['mwhrs'].sum().astype(int)\n",
    "        total = df.loc[(df.state==state)&(df.year==year)&(df.type=='Total Electric Power Industry')&(df.source=='Total')]['mwhrs'].sum().astype(int)\n",
    "        for month in range(12):\n",
    "            if month_counter < 12: \n",
    "                new_df.loc[idx*12+month]=[state,year,month_counter,str(year)+'-'+'{:02d}'.format(month_counter), np.nan,np.nan,np.nan,np.nan,renew,fossil,coal,total]\n",
    "                month_counter += 1\n",
    "            elif month_counter == 12:\n",
    "                new_df.loc[idx*12+month]=[state,year,month_counter,str(year)+'-'+'{:02d}'.format(month_counter),renew/12,fossil/12,coal/12,total/12,renew,fossil,coal,total]\n",
    "                month_counter = 1\n",
    "        idx += 1"
   ]
  },
  {
   "cell_type": "code",
   "execution_count": 8,
   "metadata": {},
   "outputs": [],
   "source": [
    "# linear interpolation to fill in months based on end-of-year data\n",
    "\n",
    "cols = ['monthly_energy_renew','monthly_energy_fossil','monthly_energy_coal','monthly_energy_total']\n",
    "for state in abbreviations:\n",
    "    new_df.loc[new_df.state == state, cols] = new_df.loc[new_df.state == state,cols].interpolate(method='linear')"
   ]
  },
  {
   "cell_type": "code",
   "execution_count": 9,
   "metadata": {},
   "outputs": [],
   "source": [
    "# create columns to reflect renewable/total and fossil/total percentages\n",
    "\n",
    "new_df['monthly_renew_pct'] = new_df['monthly_energy_renew']/new_df['monthly_energy_total']\n",
    "new_df['monthly_fossil_pct'] = new_df['monthly_energy_fossil']/new_df['monthly_energy_total']\n",
    "new_df['monthly_coal_pct'] = new_df['monthly_energy_coal']/new_df['monthly_energy_total']\n",
    "new_df['yearly_renew_pct'] = new_df['yearly_energy_renew']/new_df['yearly_energy_total']\n",
    "new_df['yearly_fossil_pct'] = new_df['yearly_energy_fossil']/new_df['yearly_energy_total']\n",
    "new_df['yearly_coal_pct'] = new_df['yearly_energy_coal']/new_df['yearly_energy_total']"
   ]
  },
  {
   "cell_type": "code",
   "execution_count": 10,
   "metadata": {},
   "outputs": [],
   "source": [
    "# export new_df to a .csv\n",
    "\n",
    "new_df.to_csv('../../SharedData/dataset-generation-final/energy-by-source-final.csv',index=False)"
   ]
  }
 ],
 "metadata": {
  "kernelspec": {
   "display_name": "erdos_spring_2025",
   "language": "python",
   "name": "python3"
  },
  "language_info": {
   "codemirror_mode": {
    "name": "ipython",
    "version": 3
   },
   "file_extension": ".py",
   "mimetype": "text/x-python",
   "name": "python",
   "nbconvert_exporter": "python",
   "pygments_lexer": "ipython3",
   "version": "3.12.8"
  }
 },
 "nbformat": 4,
 "nbformat_minor": 2
}
