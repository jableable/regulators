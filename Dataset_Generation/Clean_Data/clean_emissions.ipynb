{
 "cells": [
  {
   "cell_type": "code",
   "execution_count": 1,
   "metadata": {},
   "outputs": [],
   "source": [
    "# here, we convert monthly-emissions-1996-2024.csv into the proper timer series format \n",
    "# and output monthly-emissions-1996-2024-final.csv\n",
    "# we also incorporate 1990-1995 data from monthly_emissions_1990_1996.csv\n",
    "\n",
    "import pandas as pd\n",
    "import numpy as np\n",
    "import warnings\n",
    "warnings.filterwarnings('ignore')\n",
    "\n",
    "df96 = pd.read_csv('../../SharedData/dataset-generation/monthly-emissions-1996-2024.csv')\n",
    "df90 = pd.read_csv('../../SharedData/dataset-generation/monthly-emissions-1990-1996.csv')"
   ]
  },
  {
   "cell_type": "code",
   "execution_count": 2,
   "metadata": {},
   "outputs": [],
   "source": [
    "df90['date']=df90['date'].apply(pd.to_datetime)\n",
    "df90['date'] = df90['date'].dt.strftime('%Y-%m')\n",
    "df90 = df90[['state','date','monthly_emissions']]"
   ]
  },
  {
   "cell_type": "code",
   "execution_count": 3,
   "metadata": {},
   "outputs": [],
   "source": [
    "# reformat year and month within a single column of form yyyy-mm\n",
    "df96['Month'] = df96['Month'].apply(\"{:02d}\".format)\n",
    "df96['date'] = df96['Year'].astype(str)+'-'+df96['Month'].astype(str)\n",
    "\n",
    "# sum up CO2 emissions by state and date\n",
    "df96 = df96.rename(columns={'State':'state'})\n",
    "new_df = df96.groupby(['state', 'date'])['CO2 Mass (short tons)'].sum().reset_index(name='monthly_emissions')\n",
    "new_df = new_df[~new_df['state'].isin(['AK','HI'])]\n",
    "\n",
    "new_df['date'] = new_df['date'].apply(pd.to_datetime)\n",
    "new_df['date'] = new_df['date'].dt.strftime('%Y-%m')\n",
    "new_df = new_df[new_df['date'] >= '1997-01']"
   ]
  },
  {
   "cell_type": "code",
   "execution_count": 4,
   "metadata": {},
   "outputs": [],
   "source": [
    "df_emissions = pd.concat([df90, new_df],axis=0)\n",
    "df_emissions = df_emissions.sort_values(['state','date']).reset_index(drop=True)\n",
    "df_emissions['date'] = df_emissions['date'].apply(pd.to_datetime)\n",
    "df_emissions['date'] = df_emissions['date'].dt.strftime('%Y-%m')"
   ]
  },
  {
   "cell_type": "code",
   "execution_count": null,
   "metadata": {},
   "outputs": [],
   "source": [
    "# abbreviations = [\n",
    "#     \"AL\", \"AZ\", \"AR\", \"CA\", \"CO\", \"CT\", \"DE\", \"FL\", \"GA\",\n",
    "#     \"ID\", \"IL\", \"IN\", \"IA\", \"KS\", \"KY\", \"LA\", \"ME\", \"MD\",\n",
    "#     \"MA\", \"MI\", \"MN\", \"MS\", \"MO\", \"MT\", \"NE\", \"NV\", \"NH\", \"NJ\",\n",
    "#     \"NM\", \"NY\", \"NC\", \"ND\", \"OH\", \"OK\", \"OR\", \"PA\", \"RI\", \"SC\",\n",
    "#     \"SD\", \"TN\", \"TX\", \"UT\", \"VT\", \"VA\", \"WA\", \"WV\", \"WI\", \"WY\"\n",
    "# ]\n",
    "\n",
    "# df_emissions['yearly_emissions'] = np.empty(df_emissions.shape[0])\n",
    "\n",
    "# idx=0\n",
    "# for state in abbreviations:\n",
    "#     for year in range(1990,2024):\n",
    "#         yr_emissions = df_emissions.loc[(df_emissions.state==state)&(df_emissions.date.dt.year==year)]['monthly_emissions'].sum()\n",
    "#         yr_emissions_arr = np.empty(12)\n",
    "#         yr_emissions_arr.fill(yr_emissions)\n",
    "#         df_emissions[(df_emissions.state==state) & (df_emissions.date.dt.year==year)]['yearly_emissions'] = yr_emissions_arr\n"
   ]
  },
  {
   "cell_type": "code",
   "execution_count": 5,
   "metadata": {},
   "outputs": [],
   "source": [
    "df_emissions.to_csv('../../SharedData/dataset-generation-final/monthly-emissions-1990-2024-final.csv', index=False)"
   ]
  },
  {
   "cell_type": "code",
   "execution_count": null,
   "metadata": {},
   "outputs": [],
   "source": []
  }
 ],
 "metadata": {
  "kernelspec": {
   "display_name": "erdos_spring_2025",
   "language": "python",
   "name": "python3"
  },
  "language_info": {
   "codemirror_mode": {
    "name": "ipython",
    "version": 3
   },
   "file_extension": ".py",
   "mimetype": "text/x-python",
   "name": "python",
   "nbconvert_exporter": "python",
   "pygments_lexer": "ipython3",
   "version": "3.12.8"
  }
 },
 "nbformat": 4,
 "nbformat_minor": 2
}
