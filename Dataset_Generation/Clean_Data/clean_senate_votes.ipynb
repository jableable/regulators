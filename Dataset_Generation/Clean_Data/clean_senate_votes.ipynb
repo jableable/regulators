{
 "cells": [
  {
   "cell_type": "code",
   "execution_count": 5,
   "metadata": {},
   "outputs": [],
   "source": [
    "import pandas as pd"
   ]
  },
  {
   "cell_type": "code",
   "execution_count": 6,
   "metadata": {},
   "outputs": [
    {
     "name": "stdout",
     "output_type": "stream",
     "text": [
      "  state       date  republican_vote_pct\n",
      "0    AZ 1976-12-01                 8.67\n",
      "1    CA 1976-12-01                10.04\n",
      "2    CT 1976-12-01                14.43\n",
      "3    DE 1976-12-01                11.16\n",
      "4    FL 1976-12-01                12.34\n"
     ]
    }
   ],
   "source": [
    "# Load the dataset\n",
    "df = pd.read_csv(\"../../SharedData/dataset-generation/senate-1976-2020.csv\")\n",
    "\n",
    "# Filter to general elections only and valid total vote counts\n",
    "df_gen = df[(df['stage'] == 'gen') & (df['totalvotes'].notna())]\n",
    "\n",
    "# Sum Republican votes by year and state\n",
    "rep_votes = df_gen[df_gen['party_simplified'] == 'REPUBLICAN'].groupby(\n",
    "    ['year', 'state_po']\n",
    ")['candidatevotes'].sum().reset_index(name='republican_votes')\n",
    "\n",
    "# Sum total votes by year and state\n",
    "total_votes = df_gen.groupby(\n",
    "    ['year', 'state_po']\n",
    ")['totalvotes'].sum().reset_index(name='total_votes')\n",
    "\n",
    "# Merge and calculate the percentage\n",
    "merged = pd.merge(rep_votes, total_votes, on=['year', 'state_po'])\n",
    "merged['republican_vote_pct'] = (merged['republican_votes'] / merged['total_votes']) * 100\n",
    "merged['republican_vote_pct'] = merged['republican_vote_pct'].round(2)\n",
    "\n",
    "merged = merged.rename(columns={'state_po':'state'})\n",
    "\n",
    "merged['date'] = pd.to_datetime(merged['year'].astype(str) + '-12-01')\n",
    "merged = merged[['state', 'date', 'republican_vote_pct']]\n",
    "\n",
    "# Display the result\n",
    "print(merged.head())"
   ]
  },
  {
   "cell_type": "code",
   "execution_count": 7,
   "metadata": {},
   "outputs": [],
   "source": [
    "# export new_df to a .csv\n",
    "merged.to_csv('../../SharedData/dataset-generation-final/republican-votes-by-state.csv',index=False)"
   ]
  },
  {
   "cell_type": "code",
   "execution_count": null,
   "metadata": {},
   "outputs": [],
   "source": []
  }
 ],
 "metadata": {
  "kernelspec": {
   "display_name": "erdos_spring_2025",
   "language": "python",
   "name": "python3"
  },
  "language_info": {
   "codemirror_mode": {
    "name": "ipython",
    "version": 3
   },
   "file_extension": ".py",
   "mimetype": "text/x-python",
   "name": "python",
   "nbconvert_exporter": "python",
   "pygments_lexer": "ipython3",
   "version": "3.12.8"
  }
 },
 "nbformat": 4,
 "nbformat_minor": 2
}
