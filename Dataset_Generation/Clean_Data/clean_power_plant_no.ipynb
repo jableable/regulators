{
 "cells": [
  {
   "cell_type": "code",
   "execution_count": 1,
   "metadata": {},
   "outputs": [],
   "source": [
    "# here, we convert campd-monthly-emissions-facility-aggregation.csv \n",
    "# into the proper timer series format and output power_plant_count.csv\n",
    "\n",
    "import pandas as pd\n",
    "import warnings\n",
    "warnings.filterwarnings('ignore')\n",
    "\n",
    "df = pd.read_csv('../../SharedData/dataset-generation/campd-monthly-emissions-facility-aggregation.csv')"
   ]
  },
  {
   "cell_type": "code",
   "execution_count": 2,
   "metadata": {},
   "outputs": [],
   "source": [
    "abbreviations = [\n",
    "    \"AL\", \"AZ\", \"AR\", \"CA\", \"CO\", \"CT\", \"DE\", \"FL\", \"GA\",\n",
    "    \"ID\", \"IL\", \"IN\", \"IA\", \"KS\", \"KY\", \"LA\", \"ME\", \"MD\",\n",
    "    \"MA\", \"MI\", \"MN\", \"MS\", \"MO\", \"MT\", \"NE\", \"NV\", \"NH\", \"NJ\",\n",
    "    \"NM\", \"NY\", \"NC\", \"ND\", \"OH\", \"OK\", \"OR\", \"PA\", \"RI\", \"SC\",\n",
    "    \"SD\", \"TN\", \"TX\", \"UT\", \"VT\", \"VA\", \"WA\", \"WV\", \"WI\", \"WY\"\n",
    "]"
   ]
  },
  {
   "cell_type": "code",
   "execution_count": 3,
   "metadata": {},
   "outputs": [],
   "source": [
    "# calculate power plant ages in months\n",
    "\n",
    "df.sort_values(by=['State','Facility ID', 'Year','Month'], inplace=True)\n",
    "df['facility_age'] = df.groupby('Facility ID').cumcount() + 1\n",
    "\n",
    "# calculate weight average of age and capacity\n",
    "\n",
    "df['weighted_facility_age'] = df['Gross Load (MWh)'] * df['facility_age']"
   ]
  },
  {
   "cell_type": "code",
   "execution_count": 4,
   "metadata": {},
   "outputs": [],
   "source": [
    "df = df.dropna(subset=['Gross Load (MWh)', 'Steam Load (1000 lb)', 'SO2 Mass (short tons)', 'CO2 Mass (short tons)', 'NOx Mass (short tons)', 'Heat Input (mmBtu)'], how='all')\n",
    "df = df.drop(columns=['Gross Load (MWh)','Steam Load (1000 lb)', 'SO2 Mass (short tons)', 'CO2 Mass (short tons)', 'NOx Mass (short tons)', 'Heat Input (mmBtu)'])\n",
    "df = df.rename(columns={'State':'state', 'Year':'year', 'Month':'month','Facility ID':'id'})\n",
    "df = df[df.year >= 1997]"
   ]
  },
  {
   "cell_type": "code",
   "execution_count": 5,
   "metadata": {},
   "outputs": [],
   "source": [
    "# Count power plants each month and add up ages\n",
    "\n",
    "new_df = df.groupby(['year', 'month', 'state'],as_index=False).agg(\n",
    "    monthly_num_plants=('id', 'count'),\n",
    "    total_facility_age=('facility_age', 'sum'),\n",
    "    total_weighted_facility_age=('weighted_facility_age', 'sum')\n",
    ")\n",
    "new_df = new_df.rename(columns={'id':'monthly_num_plants'})\n",
    "\n",
    "# Date formatting\n",
    "\n",
    "new_df['date'] = new_df['year'].astype(str) + '-' + new_df['month'].astype(str).str.zfill(2)\n",
    "new_df['date'] = new_df['date'].apply(pd.to_datetime)\n",
    "new_df['date'] = new_df['date'].dt.strftime('%Y-%m')"
   ]
  },
  {
   "cell_type": "code",
   "execution_count": 6,
   "metadata": {},
   "outputs": [],
   "source": [
    "# Initialize yearly column\n",
    "\n",
    "new_df['yearly_num_plants'] = 0"
   ]
  },
  {
   "cell_type": "code",
   "execution_count": 7,
   "metadata": {},
   "outputs": [],
   "source": [
    "# Fill in yearly column by using data from month 12 of each year\n",
    "\n",
    "for state in abbreviations:\n",
    "    for year in range(1997,2021):\n",
    "        year_value = new_df.loc[(new_df.state==state)&(new_df.year==year)&(new_df.month==12),'monthly_num_plants']\n",
    "        new_df.loc[(new_df.state==state)&(new_df.year==year),'yearly_num_plants'] = year_value.values[0]"
   ]
  },
  {
   "cell_type": "code",
   "execution_count": 8,
   "metadata": {},
   "outputs": [],
   "source": [
    "# export new_df to a .csv\n",
    "new_df.to_csv('../../SharedData/dataset-generation-final/power_plant_count.csv')"
   ]
  }
 ],
 "metadata": {
  "kernelspec": {
   "display_name": "erdos_spring_2025",
   "language": "python",
   "name": "python3"
  },
  "language_info": {
   "codemirror_mode": {
    "name": "ipython",
    "version": 3
   },
   "file_extension": ".py",
   "mimetype": "text/x-python",
   "name": "python",
   "nbconvert_exporter": "python",
   "pygments_lexer": "ipython3",
   "version": "3.12.8"
  }
 },
 "nbformat": 4,
 "nbformat_minor": 2
}
