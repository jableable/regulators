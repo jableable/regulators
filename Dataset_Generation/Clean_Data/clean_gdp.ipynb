{
 "cells": [
  {
   "cell_type": "code",
   "execution_count": 1,
   "metadata": {},
   "outputs": [],
   "source": [
    "# here, we convert gdp-1997-2023.csv into the proper timer series format and output gdp-1997-2023-final.csv\n",
    "\n",
    "import pandas as pd\n",
    "import numpy as np\n",
    "import matplotlib.pyplot as plt\n",
    "import warnings\n",
    "warnings.filterwarnings('ignore')"
   ]
  },
  {
   "cell_type": "code",
   "execution_count": 2,
   "metadata": {},
   "outputs": [],
   "source": [
    "df = pd.read_csv('../../SharedData/dataset-generation/gdp-1997-2023.csv')\n",
    "\n",
    "d = {'state':[], 'date':[], 'monthly_gdp_rel_2017':[], 'yearly_gdp_rel_2017':[], 'interp_col':[]}\n",
    "new_df = pd.DataFrame(data=d)\n",
    "new_new_df = pd.DataFrame(data=d)"
   ]
  },
  {
   "cell_type": "code",
   "execution_count": 3,
   "metadata": {},
   "outputs": [],
   "source": [
    "state_names = [\n",
    "    \"Alabama\", \"Alaska\", \"Arizona\", \"Arkansas\", \"California\", \"Colorado\", \"Connecticut\", \"Delaware\", \"Florida\", \"Georgia\",\n",
    "    \"Hawaii\", \"Idaho\", \"Illinois\", \"Indiana\", \"Iowa\", \"Kansas\", \"Kentucky\", \"Louisiana\", \"Maine\", \"Maryland\",\n",
    "    \"Massachusetts\", \"Michigan\", \"Minnesota\", \"Mississippi\", \"Missouri\", \"Montana\", \"Nebraska\", \"Nevada\", \"New Hampshire\", \"New Jersey\",\n",
    "    \"New Mexico\", \"New York\", \"North Carolina\", \"North Dakota\", \"Ohio\", \"Oklahoma\", \"Oregon\", \"Pennsylvania\", \"Rhode Island\", \"South Carolina\",\n",
    "    \"South Dakota\", \"Tennessee\", \"Texas\", \"Utah\", \"Vermont\", \"Virginia\", \"Washington\", \"West Virginia\", \"Wisconsin\", \"Wyoming\"\n",
    "]\n",
    "\n",
    "abbreviations = [\n",
    "    \"AL\", \"AK\", \"AZ\", \"AR\", \"CA\", \"CO\", \"CT\", \"DE\", \"FL\", \"GA\",\n",
    "    \"HI\", \"ID\", \"IL\", \"IN\", \"IA\", \"KS\", \"KY\", \"LA\", \"ME\", \"MD\",\n",
    "    \"MA\", \"MI\", \"MN\", \"MS\", \"MO\", \"MT\", \"NE\", \"NV\", \"NH\", \"NJ\",\n",
    "    \"NM\", \"NY\", \"NC\", \"ND\", \"OH\", \"OK\", \"OR\", \"PA\", \"RI\", \"SC\",\n",
    "    \"SD\", \"TN\", \"TX\", \"UT\", \"VT\", \"VA\", \"WA\", \"WV\", \"WI\", \"WY\"\n",
    "]\n",
    "name_dict = {state_names[i]:abbreviations[i] for i in range(len(state_names))}"
   ]
  },
  {
   "cell_type": "code",
   "execution_count": 4,
   "metadata": {},
   "outputs": [],
   "source": [
    "df = df[df.LineCode==1.0]\n",
    "df = df[df.GeoName.isin(state_names)]\n",
    "df = df.drop(['GeoFIPS','Region','IndustryClassification','TableName','Description','Unit'],axis=1)\n",
    "df = df.reset_index(drop=True)"
   ]
  },
  {
   "cell_type": "code",
   "execution_count": 5,
   "metadata": {},
   "outputs": [],
   "source": [
    "for i in range(50):    \n",
    "    for year in range(1997,2024):\n",
    "        new_df.loc[len(new_df)+1] = None\n",
    "        new_df = new_df.astype('object')\n",
    "        new_df.loc[len(new_df)]['state']=df.iloc[i]['GeoName']\n",
    "        new_df.loc[len(new_df)]['date']=str(year)\n",
    "        new_df.loc[len(new_df)]['interp_col']=df.iloc[i][str(year)]\n",
    "\n",
    "new_df['state'] = new_df['state'].map(name_dict)"
   ]
  },
  {
   "cell_type": "code",
   "execution_count": 6,
   "metadata": {},
   "outputs": [],
   "source": [
    "# loop through each of 27 years in given row in dataframe\n",
    "# copy each year's GDP 12 times (one for each month) into 12 rows of new_new_df\n",
    "# for a total of 12*27*50 entries\n",
    "\n",
    "idx = 0             # keeps track of row index\n",
    "for state in range(50):\n",
    "    for year in range(1997,2024):\n",
    "        for month in range(1,13):\n",
    "            if month == 1:      \n",
    "                new_new_df.loc[idx*12+month-1] = [new_df.iloc[state*27][0], \n",
    "                                                str(year)+'-'+'{:02d}'.format(month), \n",
    "                                                None,\n",
    "                                                new_df.interp_col.iloc[idx],\n",
    "                                                new_df.interp_col.iloc[idx]/12]  \n",
    "            else:\n",
    "                new_new_df.loc[idx*12+month-1] = [new_df.iloc[state*27][0], \n",
    "                                                str(year)+'-'+'{:02d}'.format(month),\n",
    "                                                None,\n",
    "                                                new_df.interp_col.iloc[idx],\n",
    "                                                None]\n",
    "        idx += 1"
   ]
  },
  {
   "cell_type": "code",
   "execution_count": 7,
   "metadata": {},
   "outputs": [],
   "source": [
    "# The above dataframe construction is nowhere near efficient, but it works. Here are some quick-fix things to make it work.\n",
    "\n",
    "new_new_df.date = new_new_df.date.apply(pd.to_datetime)\n",
    "new_new_df.date = new_new_df.date.dt.strftime('%Y-%m')\n",
    "new_new_df = new_new_df.sort_values(['state','date']).reset_index(drop=True)"
   ]
  },
  {
   "cell_type": "code",
   "execution_count": 8,
   "metadata": {},
   "outputs": [],
   "source": [
    "# linear interpolation to fill in months based on end-of-year data\n",
    "# and create monthly_gdp_rel_2017 column\n",
    "\n",
    "for state in abbreviations:\n",
    "    new_new_df.loc[new_new_df.state == state,'monthly_gdp_rel_2017'] = new_new_df[new_new_df.state == state].interp_col.interpolate(method='linear')\n"
   ]
  },
  {
   "cell_type": "code",
   "execution_count": null,
   "metadata": {},
   "outputs": [
    {
     "name": "stdout",
     "output_type": "stream",
     "text": [
      "0     41071.0\n",
      "12    40263.7\n",
      "24    39783.1\n",
      "36    38428.1\n",
      "48    40014.4\n",
      "Name: yearly_gdp_rel_2017, dtype: float64\n",
      "37340.072916666664\n",
      "36724.82916666666\n",
      "35950.30694444444\n",
      "35831.63680555556\n",
      "37401.856250000004\n"
     ]
    }
   ],
   "source": [
    "# print(new_new_df.yearly_gdp_rel_2017.iloc[[0,12,24,36,48]])\n",
    "# print(np.sum(new_new_df.monthly_gdp_rel_2017[0:11]))\n",
    "# print(np.sum(new_new_df.monthly_gdp_rel_2017[12:23]))\n",
    "# print(np.sum(new_new_df.monthly_gdp_rel_2017[24:35]))\n",
    "# print(np.sum(new_new_df.monthly_gdp_rel_2017[36:47]))\n",
    "# print(np.sum(new_new_df.monthly_gdp_rel_2017[48:59]))"
   ]
  },
  {
   "cell_type": "code",
   "execution_count": 9,
   "metadata": {},
   "outputs": [],
   "source": [
    "new_new_df.drop(columns='interp_col', inplace=True)"
   ]
  },
  {
   "cell_type": "code",
   "execution_count": 10,
   "metadata": {},
   "outputs": [
    {
     "data": {
      "text/html": [
       "<div>\n",
       "<style scoped>\n",
       "    .dataframe tbody tr th:only-of-type {\n",
       "        vertical-align: middle;\n",
       "    }\n",
       "\n",
       "    .dataframe tbody tr th {\n",
       "        vertical-align: top;\n",
       "    }\n",
       "\n",
       "    .dataframe thead th {\n",
       "        text-align: right;\n",
       "    }\n",
       "</style>\n",
       "<table border=\"1\" class=\"dataframe\">\n",
       "  <thead>\n",
       "    <tr style=\"text-align: right;\">\n",
       "      <th></th>\n",
       "      <th>state</th>\n",
       "      <th>date</th>\n",
       "      <th>monthly_gdp_rel_2017</th>\n",
       "      <th>yearly_gdp_rel_2017</th>\n",
       "    </tr>\n",
       "  </thead>\n",
       "  <tbody>\n",
       "    <tr>\n",
       "      <th>0</th>\n",
       "      <td>AK</td>\n",
       "      <td>1997-01</td>\n",
       "      <td>3422.583333</td>\n",
       "      <td>41071.0</td>\n",
       "    </tr>\n",
       "    <tr>\n",
       "      <th>1</th>\n",
       "      <td>AK</td>\n",
       "      <td>1997-02</td>\n",
       "      <td>3416.977083</td>\n",
       "      <td>41071.0</td>\n",
       "    </tr>\n",
       "    <tr>\n",
       "      <th>2</th>\n",
       "      <td>AK</td>\n",
       "      <td>1997-03</td>\n",
       "      <td>3411.370833</td>\n",
       "      <td>41071.0</td>\n",
       "    </tr>\n",
       "    <tr>\n",
       "      <th>3</th>\n",
       "      <td>AK</td>\n",
       "      <td>1997-04</td>\n",
       "      <td>3405.764583</td>\n",
       "      <td>41071.0</td>\n",
       "    </tr>\n",
       "    <tr>\n",
       "      <th>4</th>\n",
       "      <td>AK</td>\n",
       "      <td>1997-05</td>\n",
       "      <td>3400.158333</td>\n",
       "      <td>41071.0</td>\n",
       "    </tr>\n",
       "    <tr>\n",
       "      <th>...</th>\n",
       "      <td>...</td>\n",
       "      <td>...</td>\n",
       "      <td>...</td>\n",
       "      <td>...</td>\n",
       "    </tr>\n",
       "    <tr>\n",
       "      <th>16195</th>\n",
       "      <td>WY</td>\n",
       "      <td>2023-08</td>\n",
       "      <td>3350.9</td>\n",
       "      <td>40210.8</td>\n",
       "    </tr>\n",
       "    <tr>\n",
       "      <th>16196</th>\n",
       "      <td>WY</td>\n",
       "      <td>2023-09</td>\n",
       "      <td>3350.9</td>\n",
       "      <td>40210.8</td>\n",
       "    </tr>\n",
       "    <tr>\n",
       "      <th>16197</th>\n",
       "      <td>WY</td>\n",
       "      <td>2023-10</td>\n",
       "      <td>3350.9</td>\n",
       "      <td>40210.8</td>\n",
       "    </tr>\n",
       "    <tr>\n",
       "      <th>16198</th>\n",
       "      <td>WY</td>\n",
       "      <td>2023-11</td>\n",
       "      <td>3350.9</td>\n",
       "      <td>40210.8</td>\n",
       "    </tr>\n",
       "    <tr>\n",
       "      <th>16199</th>\n",
       "      <td>WY</td>\n",
       "      <td>2023-12</td>\n",
       "      <td>3350.9</td>\n",
       "      <td>40210.8</td>\n",
       "    </tr>\n",
       "  </tbody>\n",
       "</table>\n",
       "<p>16200 rows × 4 columns</p>\n",
       "</div>"
      ],
      "text/plain": [
       "      state     date monthly_gdp_rel_2017  yearly_gdp_rel_2017\n",
       "0        AK  1997-01          3422.583333              41071.0\n",
       "1        AK  1997-02          3416.977083              41071.0\n",
       "2        AK  1997-03          3411.370833              41071.0\n",
       "3        AK  1997-04          3405.764583              41071.0\n",
       "4        AK  1997-05          3400.158333              41071.0\n",
       "...     ...      ...                  ...                  ...\n",
       "16195    WY  2023-08               3350.9              40210.8\n",
       "16196    WY  2023-09               3350.9              40210.8\n",
       "16197    WY  2023-10               3350.9              40210.8\n",
       "16198    WY  2023-11               3350.9              40210.8\n",
       "16199    WY  2023-12               3350.9              40210.8\n",
       "\n",
       "[16200 rows x 4 columns]"
      ]
     },
     "execution_count": 10,
     "metadata": {},
     "output_type": "execute_result"
    }
   ],
   "source": [
    "new_new_df"
   ]
  },
  {
   "cell_type": "code",
   "execution_count": 11,
   "metadata": {},
   "outputs": [],
   "source": [
    "# export new_new_df to a .csv\n",
    "\n",
    "new_new_df.to_csv('../../SharedData/dataset-generation-final/gdp-1997-2023-final.csv', index=False)"
   ]
  },
  {
   "cell_type": "code",
   "execution_count": null,
   "metadata": {},
   "outputs": [],
   "source": []
  }
 ],
 "metadata": {
  "kernelspec": {
   "display_name": "erdos_spring_2025",
   "language": "python",
   "name": "python3"
  },
  "language_info": {
   "codemirror_mode": {
    "name": "ipython",
    "version": 3
   },
   "file_extension": ".py",
   "mimetype": "text/x-python",
   "name": "python",
   "nbconvert_exporter": "python",
   "pygments_lexer": "ipython3",
   "version": "3.12.8"
  }
 },
 "nbformat": 4,
 "nbformat_minor": 2
}
