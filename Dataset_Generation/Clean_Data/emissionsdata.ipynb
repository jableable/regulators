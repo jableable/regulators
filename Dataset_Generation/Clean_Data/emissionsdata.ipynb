{
 "cells": [
  {
   "cell_type": "code",
   "execution_count": 1,
   "metadata": {},
   "outputs": [],
   "source": [
    "import pandas as pd\n",
    "import requests\n",
    "import numpy as np\n",
    "from pathlib import Path"
   ]
  },
  {
   "cell_type": "markdown",
   "metadata": {},
   "source": [
    "We obtain annual emissions from 1990-1996 in the electric power sector by state from the US Energy Information Administration's API:"
   ]
  },
  {
   "cell_type": "code",
   "execution_count": 5,
   "metadata": {},
   "outputs": [
    {
     "name": "stdout",
     "output_type": "stream",
     "text": [
      "Status Code: 200\n",
      "Request successful\n",
      "1456\n"
     ]
    }
   ],
   "source": [
    "api_key_EIA = ''  # Replace with your actual API key\n",
    "\n",
    "url = f\"https://api.eia.gov/v2/co2-emissions/co2-emissions-aggregates/data/?frequency=annual&data[0]=value&facets[sectorId][]=EC&start=1990&end=1996&sort[0][column]=period&sort[0][direction]=desc&offset=0&length=5000&api_key={api_key_EIA}\"\n",
    "\n",
    "data_all = []\n",
    "# Maximum length of EIA API output is 5000 rows; while loop below gets all rows\n",
    "while True:\n",
    "    response = requests.get(url)\n",
    "    \n",
    "    # Print status code for debugging\n",
    "    print(f\"Status Code: {response.status_code}\")\n",
    "    \n",
    "    # If there's an error, print the full response\n",
    "    if response.status_code == 200:\n",
    "        print(\"Request successful\")\n",
    "    else:\n",
    "        print(f\"Request failed with status code: {response.status_code}\")\n",
    "        break\n",
    "    \n",
    "    data = response.json()\n",
    "    \n",
    "    if \"response\" not in data or \"data\" not in data[\"response\"]:\n",
    "        print(\"Unexpected response structure:\", data)\n",
    "        break\n",
    "    \n",
    "    data_all.extend(data[\"response\"][\"data\"])\n",
    "    \n",
    "    if len(data[\"response\"][\"data\"]) < 5000:\n",
    "        break\n",
    "    \n",
    "    data['offset'] += 5000\n",
    "\n",
    "emissions_1990_1996 = pd.DataFrame(data_all)\n",
    "print(len(emissions_1990_1996))"
   ]
  },
  {
   "cell_type": "code",
   "execution_count": 6,
   "metadata": {},
   "outputs": [],
   "source": [
    "# drop unnecessary columns and rows for 'US', 'AK', 'HI':\n",
    "emissions_1990_1996 = emissions_1990_1996.loc[emissions_1990_1996['fuelId']=='TO']\n",
    "\n",
    "emissions_1990_1996 = emissions_1990_1996[['period', 'stateId', 'value']]\n",
    "\n",
    "emissions_1990_1996 = emissions_1990_1996.drop(emissions_1990_1996[emissions_1990_1996['stateId'].isin(['US', 'AK', 'HI'])].index)"
   ]
  },
  {
   "cell_type": "code",
   "execution_count": 7,
   "metadata": {},
   "outputs": [],
   "source": [
    "# rename columns\n",
    "emissions_1990_1996 = emissions_1990_1996.rename(columns={'period': 'year', 'stateId': 'state', 'value': 'total_co2'})"
   ]
  },
  {
   "cell_type": "code",
   "execution_count": 8,
   "metadata": {},
   "outputs": [],
   "source": [
    "# Convert units from megatons to tons\n",
    "emissions_1990_1996['total_co2'] = emissions_1990_1996['total_co2'].astype(float)*1000000"
   ]
  },
  {
   "cell_type": "code",
   "execution_count": 9,
   "metadata": {},
   "outputs": [
    {
     "data": {
      "text/html": [
       "<div>\n",
       "<style scoped>\n",
       "    .dataframe tbody tr th:only-of-type {\n",
       "        vertical-align: middle;\n",
       "    }\n",
       "\n",
       "    .dataframe tbody tr th {\n",
       "        vertical-align: top;\n",
       "    }\n",
       "\n",
       "    .dataframe thead th {\n",
       "        text-align: right;\n",
       "    }\n",
       "</style>\n",
       "<table border=\"1\" class=\"dataframe\">\n",
       "  <thead>\n",
       "    <tr style=\"text-align: right;\">\n",
       "      <th></th>\n",
       "      <th>year</th>\n",
       "      <th>state</th>\n",
       "      <th>total_co2</th>\n",
       "    </tr>\n",
       "  </thead>\n",
       "  <tbody>\n",
       "    <tr>\n",
       "      <th>1</th>\n",
       "      <td>1996</td>\n",
       "      <td>WY</td>\n",
       "      <td>40630558.0</td>\n",
       "    </tr>\n",
       "    <tr>\n",
       "      <th>5</th>\n",
       "      <td>1996</td>\n",
       "      <td>WI</td>\n",
       "      <td>39691630.0</td>\n",
       "    </tr>\n",
       "    <tr>\n",
       "      <th>9</th>\n",
       "      <td>1996</td>\n",
       "      <td>WV</td>\n",
       "      <td>78739642.0</td>\n",
       "    </tr>\n",
       "    <tr>\n",
       "      <th>13</th>\n",
       "      <td>1996</td>\n",
       "      <td>WA</td>\n",
       "      <td>10737829.0</td>\n",
       "    </tr>\n",
       "    <tr>\n",
       "      <th>17</th>\n",
       "      <td>1996</td>\n",
       "      <td>VA</td>\n",
       "      <td>33564559.0</td>\n",
       "    </tr>\n",
       "    <tr>\n",
       "      <th>...</th>\n",
       "      <td>...</td>\n",
       "      <td>...</td>\n",
       "      <td>...</td>\n",
       "    </tr>\n",
       "    <tr>\n",
       "      <th>1439</th>\n",
       "      <td>1990</td>\n",
       "      <td>VA</td>\n",
       "      <td>23438072.0</td>\n",
       "    </tr>\n",
       "    <tr>\n",
       "      <th>1443</th>\n",
       "      <td>1990</td>\n",
       "      <td>WA</td>\n",
       "      <td>7532108.0</td>\n",
       "    </tr>\n",
       "    <tr>\n",
       "      <th>1447</th>\n",
       "      <td>1990</td>\n",
       "      <td>WV</td>\n",
       "      <td>71001562.0</td>\n",
       "    </tr>\n",
       "    <tr>\n",
       "      <th>1451</th>\n",
       "      <td>1990</td>\n",
       "      <td>WI</td>\n",
       "      <td>33198849.0</td>\n",
       "    </tr>\n",
       "    <tr>\n",
       "      <th>1455</th>\n",
       "      <td>1990</td>\n",
       "      <td>WY</td>\n",
       "      <td>39612532.0</td>\n",
       "    </tr>\n",
       "  </tbody>\n",
       "</table>\n",
       "<p>343 rows × 3 columns</p>\n",
       "</div>"
      ],
      "text/plain": [
       "      year state   total_co2\n",
       "1     1996    WY  40630558.0\n",
       "5     1996    WI  39691630.0\n",
       "9     1996    WV  78739642.0\n",
       "13    1996    WA  10737829.0\n",
       "17    1996    VA  33564559.0\n",
       "...    ...   ...         ...\n",
       "1439  1990    VA  23438072.0\n",
       "1443  1990    WA   7532108.0\n",
       "1447  1990    WV  71001562.0\n",
       "1451  1990    WI  33198849.0\n",
       "1455  1990    WY  39612532.0\n",
       "\n",
       "[343 rows x 3 columns]"
      ]
     },
     "execution_count": 9,
     "metadata": {},
     "output_type": "execute_result"
    }
   ],
   "source": [
    "emissions_1990_1996"
   ]
  },
  {
   "cell_type": "markdown",
   "metadata": {},
   "source": [
    "The EIA data on emissions give us yearly data. We will estimate monthly emissions using monthly data on emissions from the 1996-2024 data. We will construct monthly weights using monthly averages for each month-state pair, then multiply the 1990-1996 data by these monthly weights. These weights will be held in a dictionary where each key in the dictionary is a state-month pair, and each value is total emissions in a given month for a state divided by total emissions from a state from 1996-2024."
   ]
  },
  {
   "cell_type": "code",
   "execution_count": 10,
   "metadata": {},
   "outputs": [],
   "source": [
    "# Load monthly emissions data for 1996-2024\n",
    "monthly_emissions_1996_2024 = pd.read_csv(\"/Users/nicholasgeiser/Documents/Erdos/monthly-emissions-1996-2024-final.csv\", index_col=[0])"
   ]
  },
  {
   "cell_type": "code",
   "execution_count": 11,
   "metadata": {},
   "outputs": [],
   "source": [
    "# Drop rows containing data for Alaska, Hawaii, and Puerto Rico\n",
    "monthly_emissions_1996_2024 = monthly_emissions_1996_2024.drop(monthly_emissions_1996_2024.loc[monthly_emissions_1996_2024['State'].isin(['AK','HI','PR'])].index)\n",
    "\n",
    "# Get year and month variables \n",
    "monthly_emissions_1996_2024['year'] = pd.to_datetime(monthly_emissions_1996_2024['date']).dt.year\n",
    "monthly_emissions_1996_2024['month'] = pd.to_datetime(monthly_emissions_1996_2024['date']).dt.month"
   ]
  },
  {
   "cell_type": "code",
   "execution_count": 12,
   "metadata": {},
   "outputs": [
    {
     "data": {
      "text/html": [
       "<div>\n",
       "<style scoped>\n",
       "    .dataframe tbody tr th:only-of-type {\n",
       "        vertical-align: middle;\n",
       "    }\n",
       "\n",
       "    .dataframe tbody tr th {\n",
       "        vertical-align: top;\n",
       "    }\n",
       "\n",
       "    .dataframe thead th {\n",
       "        text-align: right;\n",
       "    }\n",
       "</style>\n",
       "<table border=\"1\" class=\"dataframe\">\n",
       "  <thead>\n",
       "    <tr style=\"text-align: right;\">\n",
       "      <th></th>\n",
       "      <th>State</th>\n",
       "      <th>date</th>\n",
       "      <th>total_co2</th>\n",
       "      <th>year</th>\n",
       "      <th>month</th>\n",
       "    </tr>\n",
       "  </thead>\n",
       "  <tbody>\n",
       "    <tr>\n",
       "      <th>72</th>\n",
       "      <td>AL</td>\n",
       "      <td>1995-01</td>\n",
       "      <td>1343398.462</td>\n",
       "      <td>1995</td>\n",
       "      <td>1</td>\n",
       "    </tr>\n",
       "    <tr>\n",
       "      <th>73</th>\n",
       "      <td>AL</td>\n",
       "      <td>1995-02</td>\n",
       "      <td>1246882.866</td>\n",
       "      <td>1995</td>\n",
       "      <td>2</td>\n",
       "    </tr>\n",
       "    <tr>\n",
       "      <th>74</th>\n",
       "      <td>AL</td>\n",
       "      <td>1995-03</td>\n",
       "      <td>1305461.609</td>\n",
       "      <td>1995</td>\n",
       "      <td>3</td>\n",
       "    </tr>\n",
       "    <tr>\n",
       "      <th>75</th>\n",
       "      <td>AL</td>\n",
       "      <td>1995-04</td>\n",
       "      <td>1407618.773</td>\n",
       "      <td>1995</td>\n",
       "      <td>4</td>\n",
       "    </tr>\n",
       "    <tr>\n",
       "      <th>76</th>\n",
       "      <td>AL</td>\n",
       "      <td>1995-05</td>\n",
       "      <td>2082638.094</td>\n",
       "      <td>1995</td>\n",
       "      <td>5</td>\n",
       "    </tr>\n",
       "    <tr>\n",
       "      <th>...</th>\n",
       "      <td>...</td>\n",
       "      <td>...</td>\n",
       "      <td>...</td>\n",
       "      <td>...</td>\n",
       "      <td>...</td>\n",
       "    </tr>\n",
       "    <tr>\n",
       "      <th>17185</th>\n",
       "      <td>WY</td>\n",
       "      <td>2024-08</td>\n",
       "      <td>3392821.201</td>\n",
       "      <td>2024</td>\n",
       "      <td>8</td>\n",
       "    </tr>\n",
       "    <tr>\n",
       "      <th>17186</th>\n",
       "      <td>WY</td>\n",
       "      <td>2024-09</td>\n",
       "      <td>2876132.311</td>\n",
       "      <td>2024</td>\n",
       "      <td>9</td>\n",
       "    </tr>\n",
       "    <tr>\n",
       "      <th>17187</th>\n",
       "      <td>WY</td>\n",
       "      <td>2024-10</td>\n",
       "      <td>2761315.645</td>\n",
       "      <td>2024</td>\n",
       "      <td>10</td>\n",
       "    </tr>\n",
       "    <tr>\n",
       "      <th>17188</th>\n",
       "      <td>WY</td>\n",
       "      <td>2024-11</td>\n",
       "      <td>2789809.785</td>\n",
       "      <td>2024</td>\n",
       "      <td>11</td>\n",
       "    </tr>\n",
       "    <tr>\n",
       "      <th>17189</th>\n",
       "      <td>WY</td>\n",
       "      <td>2024-12</td>\n",
       "      <td>3295575.403</td>\n",
       "      <td>2024</td>\n",
       "      <td>12</td>\n",
       "    </tr>\n",
       "  </tbody>\n",
       "</table>\n",
       "<p>17028 rows × 5 columns</p>\n",
       "</div>"
      ],
      "text/plain": [
       "      State     date    total_co2  year  month\n",
       "72       AL  1995-01  1343398.462  1995      1\n",
       "73       AL  1995-02  1246882.866  1995      2\n",
       "74       AL  1995-03  1305461.609  1995      3\n",
       "75       AL  1995-04  1407618.773  1995      4\n",
       "76       AL  1995-05  2082638.094  1995      5\n",
       "...     ...      ...          ...   ...    ...\n",
       "17185    WY  2024-08  3392821.201  2024      8\n",
       "17186    WY  2024-09  2876132.311  2024      9\n",
       "17187    WY  2024-10  2761315.645  2024     10\n",
       "17188    WY  2024-11  2789809.785  2024     11\n",
       "17189    WY  2024-12  3295575.403  2024     12\n",
       "\n",
       "[17028 rows x 5 columns]"
      ]
     },
     "execution_count": 12,
     "metadata": {},
     "output_type": "execute_result"
    }
   ],
   "source": [
    "monthly_emissions_1996_2024"
   ]
  },
  {
   "cell_type": "code",
   "execution_count": 13,
   "metadata": {},
   "outputs": [],
   "source": [
    "# Get monthly weights as a dictionary\n",
    "monthly_proportions = (\n",
    "    monthly_emissions_1996_2024.groupby(['State', 'month'])['total_co2'].sum() /\n",
    "    monthly_emissions_1996_2024.groupby('State')['total_co2'].sum()\n",
    ").to_dict()"
   ]
  },
  {
   "cell_type": "code",
   "execution_count": 14,
   "metadata": {},
   "outputs": [],
   "source": [
    "# Create a new month column using a cross-join in emissions_1990_1996\n",
    "months = pd.DataFrame({'month': range(1,13)})\n",
    "emissions_1990_1996 = emissions_1990_1996.merge(months, how='cross')"
   ]
  },
  {
   "cell_type": "code",
   "execution_count": 15,
   "metadata": {},
   "outputs": [],
   "source": [
    "# Construct monthly emissions for each state using the monthly_proportions dictionary and an anonymous function\n",
    "emissions_1990_1996['monthly_emissions'] = emissions_1990_1996.apply(\n",
    "    lambda row: row['total_co2'] * monthly_proportions.get((row['state'], row['month'])), axis = 1 \n",
    ")"
   ]
  },
  {
   "cell_type": "code",
   "execution_count": 17,
   "metadata": {},
   "outputs": [],
   "source": [
    "# Export as csv\n",
    "filepath = Path('../../SharedData/dataset-generation-final/monthly_emissions_1990_1996.csv')\n",
    "emissions_1990_1996.to_csv(filepath, index=False)"
   ]
  }
 ],
 "metadata": {
  "kernelspec": {
   "display_name": "Python (erdos_spring_2025)",
   "language": "python",
   "name": "erdos_spring_2025erdos"
  },
  "language_info": {
   "codemirror_mode": {
    "name": "ipython",
    "version": 3
   },
   "file_extension": ".py",
   "mimetype": "text/x-python",
   "name": "python",
   "nbconvert_exporter": "python",
   "pygments_lexer": "ipython3",
   "version": "3.12.9"
  }
 },
 "nbformat": 4,
 "nbformat_minor": 2
}
