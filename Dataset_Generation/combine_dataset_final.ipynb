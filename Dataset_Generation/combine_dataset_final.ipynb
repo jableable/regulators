{
 "cells": [
  {
   "cell_type": "code",
   "execution_count": 115,
   "id": "a2e81a85",
   "metadata": {},
   "outputs": [],
   "source": [
    "# here, we combine all finalized .csv files into single dataframes. \n",
    "# Specifically, we output 2 versions, a monthly and a yearly version\n",
    "# The both versions contain \n",
    "\n",
    "import pandas as pd \n",
    "import numpy as np\n",
    "import warnings\n",
    "warnings.filterwarnings('ignore')\n",
    "\n",
    "df1 = pd.read_csv('../SharedData/dataset-generation-final/population-1990-2020-final.csv')\n",
    "df2 = pd.read_csv('../SharedData/dataset-generation-final/monthly-emissions-1990-2024-final.csv')\n",
    "df3 = pd.read_csv('../SharedData/dataset-generation-final/monthly-weather-1990-2019-final.csv')\n",
    "df4 = pd.read_csv('../SharedData/dataset-generation-final/gdp-1997-2023-final.csv')\n",
    "df5 = pd.read_csv('../SharedData/dataset-generation-final/energy-use-prod-final.csv')\n",
    "df6 = pd.read_csv('../SharedData/dataset-generation-final/power-plant-count-final.csv')\n",
    "df7 = pd.read_csv('../SharedData/dataset-generation-final/energy-by-source-final.csv')\n",
    "df8 = pd.read_csv('../SharedData/dataset-generation-final/republican-votes-by-state.csv')\n",
    "df9 = pd.read_csv('../SharedData/dataset-generation-final/state-areas-final.csv')\n"
   ]
  },
  {
   "cell_type": "code",
   "execution_count": 122,
   "id": "fbbe375c",
   "metadata": {},
   "outputs": [],
   "source": [
    "# merge all dfs 1-8 on 'state' and 'date'\n",
    "total_df = df1.merge(df2, on=['state','date'], how='right').merge(df3, on=['state','date'], how='left').merge(df4, on=['state','date'], how='left').merge(df5, on=['state','date'], how='left').merge(df6, on=['state','date'], how='left').merge(df7,on=['state','date'], how='left').merge(df8,on=['state','date'], how='left') \n",
    "\n",
    "# remove DC, PR (not states) and HI, AK (states with missing CO2 data)\n",
    "total_df = total_df[~total_df.state.isin(['DC','PR','HI','AK'])]\n",
    "assert(len(total_df.state.unique() == 48))\n",
    "\n",
    "# ensure the 'date' column is in correct datetime formatting\n",
    "total_df['date']=pd.to_datetime(total_df['date'])"
   ]
  },
  {
   "cell_type": "code",
   "execution_count": 123,
   "id": "88f8e6fc",
   "metadata": {},
   "outputs": [
    {
     "name": "stdout",
     "output_type": "stream",
     "text": [
      "<class 'pandas.core.frame.DataFrame'>\n",
      "Index: 20160 entries, 0 to 20669\n",
      "Data columns (total 27 columns):\n",
      " #   Column                       Non-Null Count  Dtype         \n",
      "---  ------                       --------------  -----         \n",
      " 0   state                        20160 non-null  object        \n",
      " 1   date                         20160 non-null  datetime64[ns]\n",
      " 2   monthly_population           17040 non-null  float64       \n",
      " 3   yearly_population            17280 non-null  float64       \n",
      " 4   monthly_emissions            20160 non-null  float64       \n",
      " 5   prcp                         17281 non-null  float64       \n",
      " 6   snow                         17281 non-null  float64       \n",
      " 7   tavg                         17281 non-null  float64       \n",
      " 8   monthly_gdp_rel_2017         15552 non-null  float64       \n",
      " 9   yearly_gdp_rel_2017          15552 non-null  float64       \n",
      " 10  monthly_energy_prod          19008 non-null  float64       \n",
      " 11  monthly_energy_use           19008 non-null  float64       \n",
      " 12  yearly_energy_prod           19008 non-null  float64       \n",
      " 13  yearly_energy_use            19008 non-null  float64       \n",
      " 14  monthly_energy_flow          19008 non-null  float64       \n",
      " 15  yearly_energy_flow           19008 non-null  float64       \n",
      " 16  monthly_num_plants           13824 non-null  float64       \n",
      " 17  yearly_num_plants            13824 non-null  float64       \n",
      " 18  total_facility_age           13824 non-null  float64       \n",
      " 19  total_weighted_facility_age  13824 non-null  float64       \n",
      " 20  monthly_renew_pct            19056 non-null  float64       \n",
      " 21  monthly_fossil_pct           19056 non-null  float64       \n",
      " 22  monthly_coal_pct             19056 non-null  float64       \n",
      " 23  yearly_renew_pct             19584 non-null  float64       \n",
      " 24  yearly_fossil_pct            19584 non-null  float64       \n",
      " 25  yearly_coal_pct              19584 non-null  float64       \n",
      " 26  republican_vote_pct          509 non-null    float64       \n",
      "dtypes: datetime64[ns](1), float64(25), object(1)\n",
      "memory usage: 4.3+ MB\n"
     ]
    }
   ],
   "source": [
    "# Check dataframe: \n",
    "total_df.info()"
   ]
  },
  {
   "cell_type": "code",
   "execution_count": 124,
   "id": "687e9144",
   "metadata": {},
   "outputs": [],
   "source": [
    "# Create a dictionary to use to calculate population density\n",
    "df9_dict = df9.set_index('state')['area'].to_dict()\n",
    "\n",
    "# add columns for monthly/yearly population density\n",
    "total_df['monthly_pop_density'] = total_df['state'].map(df9_dict) / total_df['monthly_population']\n",
    "total_df['yearly_pop_density'] = total_df['state'].map(df9_dict) / total_df['yearly_population']"
   ]
  },
  {
   "cell_type": "code",
   "execution_count": 125,
   "id": "b488e0e7",
   "metadata": {},
   "outputs": [],
   "source": [
    "# Split the dataframe into two: monthly and yearly features\n",
    "\n",
    "mo_cols = ['state', 'date',\n",
    "           'monthly_emissions', 'monthly_population', 'monthly_pop_density',\n",
    "           'prcp', 'snow', 'tavg', \n",
    "           'monthly_gdp_rel_2017', \n",
    "           'monthly_energy_prod', 'monthly_energy_use', 'monthly_energy_flow', \n",
    "           'monthly_num_plants',\n",
    "           'total_facility_age', 'total_weighted_facility_age',\n",
    "           'monthly_renew_pct', 'monthly_fossil_pct', 'monthly_coal_pct',\n",
    "           'republican_vote_pct']\n",
    "\n",
    "yr_cols = ['state', 'date',\n",
    "           'monthly_emissions', 'yearly_population', 'yearly_pop_density',\n",
    "           'prcp', 'snow', 'tavg', \n",
    "           'yearly_gdp_rel_2017', \n",
    "           'yearly_energy_prod', 'yearly_energy_use', 'yearly_energy_flow', \n",
    "           'yearly_num_plants', \n",
    "           'total_facility_age', 'total_weighted_facility_age',\n",
    "           'yearly_renew_pct', 'yearly_fossil_pct', 'yearly_coal_pct',\n",
    "           'republican_vote_pct']\n",
    "\n",
    "monthly_total_df = total_df[mo_cols]\n",
    "yearly_total_df = total_df[yr_cols]"
   ]
  },
  {
   "cell_type": "markdown",
   "id": "d8e46715",
   "metadata": {},
   "source": [
    "Now we calculate the per capita data for both the monthly and yearly dataframes:"
   ]
  },
  {
   "cell_type": "code",
   "execution_count": 126,
   "id": "73d959ef",
   "metadata": {},
   "outputs": [],
   "source": [
    "# add all per capita features:\n",
    "\n",
    "monthly_total_df['co2_per_capita'] = monthly_total_df['monthly_emissions'] / monthly_total_df['monthly_population']\n",
    "monthly_total_df['gdp_per_capita'] = monthly_total_df['monthly_gdp_rel_2017'] / monthly_total_df['monthly_population']\n",
    "monthly_total_df['eprod_per_capita'] = monthly_total_df['monthly_energy_prod'] / monthly_total_df['monthly_population']\n",
    "monthly_total_df['eflow_per_capita'] = monthly_total_df['monthly_energy_flow'] / monthly_total_df['monthly_population']\n",
    "monthly_total_df['euse_per_capita'] = monthly_total_df['monthly_energy_use'] / monthly_total_df['monthly_population']\n",
    "monthly_total_df['avg_facility_age'] = monthly_total_df['total_facility_age'] / monthly_total_df['monthly_num_plants']\n",
    "monthly_total_df['avg_weighted_facility_age'] = monthly_total_df['total_weighted_facility_age'] / monthly_total_df['monthly_num_plants'] \n",
    "\n",
    "# yearly_total_df['co2_per_capita'] = yearly_total_df['yearly_emissions'] / yearly_total_df['yearly_population']\n",
    "yearly_total_df['co2_per_capita'] = yearly_total_df['monthly_emissions'] / yearly_total_df['yearly_population']\n",
    "yearly_total_df['gdp_per_capita'] = yearly_total_df['yearly_gdp_rel_2017'] / yearly_total_df['yearly_population']\n",
    "yearly_total_df['eprod_per_capita'] = yearly_total_df['yearly_energy_prod'] / yearly_total_df['yearly_population']\n",
    "yearly_total_df['eflow_per_capita'] = yearly_total_df['yearly_energy_flow'] / yearly_total_df['yearly_population']\n",
    "yearly_total_df['euse_per_capita'] = yearly_total_df['yearly_energy_use'] / yearly_total_df['yearly_population']\n",
    "yearly_total_df['avg_facility_age'] = yearly_total_df['total_facility_age'] / yearly_total_df['yearly_num_plants']\n",
    "yearly_total_df['avg_weighted_facility_age'] = yearly_total_df['total_weighted_facility_age'] / yearly_total_df['yearly_num_plants'] "
   ]
  },
  {
   "cell_type": "code",
   "execution_count": 127,
   "id": "70952fb9",
   "metadata": {},
   "outputs": [],
   "source": [
    "# At this point, we rearrange the columns for readability, and split the monthly/yearly dataframes into 2:\n",
    "# The first will hold all the monthly/yearly features, and the 2nd will hold only the features of interest, \n",
    "# i.e. we remove the features that were only used to calculate the other features. \n",
    "# In particular, the 2nd dataframe removes: \n",
    "# monthly_emissions, monthly_gdp_rel_2017, monthly_energy_prod, monthly_energy_use, monthly_energy_flow, \n",
    "# monthly_population, total_facility_age, and total_weighted_facility_age\n",
    "# (and resp. yearly versions)\n",
    "\n",
    "mo_tot_cols = ['state', 'date', \n",
    "                'monthly_emissions', 'co2_per_capita',\n",
    "                'prcp', 'snow', 'tavg', \n",
    "                'monthly_gdp_rel_2017', 'gdp_per_capita',\n",
    "                'monthly_energy_prod', 'eprod_per_capita', \n",
    "                'monthly_energy_use', 'euse_per_capita', \n",
    "                'monthly_energy_flow', 'eflow_per_capita',\n",
    "                'monthly_num_plants', \n",
    "                'monthly_renew_pct', 'monthly_fossil_pct', 'monthly_coal_pct',\n",
    "                'republican_vote_pct', \n",
    "                'monthly_population', 'monthly_pop_density', \n",
    "                'total_facility_age', 'avg_facility_age',\n",
    "                'total_weighted_facility_age', 'avg_weighted_facility_age']\n",
    "\n",
    "mo_cap_cols = ['state', 'date', \n",
    "                'co2_per_capita',\n",
    "                'prcp', 'snow', 'tavg', \n",
    "                'gdp_per_capita',\n",
    "                'eprod_per_capita', \n",
    "                'euse_per_capita', \n",
    "                'eflow_per_capita',\n",
    "                'monthly_num_plants', \n",
    "                'monthly_renew_pct', 'monthly_fossil_pct', 'monthly_coal_pct',\n",
    "                'republican_vote_pct', \n",
    "                'monthly_pop_density',\n",
    "                'avg_facility_age', 'avg_weighted_facility_age']\n",
    "\n",
    "yr_tot_cols = ['state', 'date', \n",
    "                'monthly_emissions', 'co2_per_capita',\n",
    "                'prcp', 'snow', 'tavg', \n",
    "                'yearly_gdp_rel_2017', 'gdp_per_capita',\n",
    "                'yearly_energy_prod', 'eprod_per_capita', \n",
    "                'yearly_energy_use', 'euse_per_capita', \n",
    "                'yearly_energy_flow', 'eflow_per_capita',\n",
    "                'yearly_num_plants', \n",
    "                'yearly_renew_pct', 'yearly_fossil_pct', 'yearly_coal_pct', \n",
    "                'republican_vote_pct', \n",
    "                'yearly_population', 'yearly_pop_density',\n",
    "                'total_facility_age', 'avg_facility_age',\n",
    "                'total_weighted_facility_age', 'avg_weighted_facility_age']\n",
    "\n",
    "yr_cap_cols = ['state', 'date', \n",
    "                'co2_per_capita',\n",
    "                'prcp', 'snow', 'tavg', \n",
    "                'gdp_per_capita',\n",
    "                'eprod_per_capita', \n",
    "                'euse_per_capita',\n",
    "                'eflow_per_capita', \n",
    "                'yearly_num_plants', \n",
    "                'yearly_renew_pct', 'yearly_fossil_pct', 'yearly_coal_pct',\n",
    "                'republican_vote_pct', \n",
    "                'yearly_pop_density', \n",
    "                'avg_facility_age', 'avg_weighted_facility_age']\n"
   ]
  },
  {
   "cell_type": "code",
   "execution_count": 128,
   "id": "aaa37c76",
   "metadata": {},
   "outputs": [],
   "source": [
    "# Here we make the split as noted above:\n",
    "\n",
    "monthly_total_df = monthly_total_df[mo_tot_cols]\n",
    "\n",
    "monthly_capita_df  = monthly_total_df[mo_cap_cols]\n",
    "\n",
    "yearly_total_df = yearly_total_df[yr_tot_cols]\n",
    "\n",
    "yearly_capita_df = yearly_total_df[yr_cap_cols]"
   ]
  },
  {
   "cell_type": "code",
   "execution_count": 129,
   "id": "f11450be",
   "metadata": {},
   "outputs": [
    {
     "name": "stdout",
     "output_type": "stream",
     "text": [
      "Number of total monthly features: 26\n",
      "Number of per capita monthly features: 18\n",
      "Number of total yearly features: 26\n",
      "Number of per capita yearly features: 18\n"
     ]
    }
   ],
   "source": [
    "print(\"Number of total monthly features:\", len(monthly_total_df.columns))\n",
    "print(\"Number of per capita monthly features:\", len(monthly_capita_df.columns))\n",
    "\n",
    "print(\"Number of total yearly features:\", len(yearly_total_df.columns))\n",
    "print(\"Number of per capita yearly features:\", len(yearly_capita_df.columns))"
   ]
  },
  {
   "cell_type": "code",
   "execution_count": 132,
   "id": "8c4e61e3",
   "metadata": {},
   "outputs": [],
   "source": [
    "monthly_total_df.to_csv('../SharedData/FinalData/monthly_total_data.csv', index=False)\n",
    "monthly_capita_df.to_csv('../SharedData/FinalData/monthly_capita_data.csv', index=False)\n",
    "yearly_total_df.to_csv('../SharedData/FinalData/yearly_total_data.csv', index=False)\n",
    "yearly_capita_df.to_csv('../SharedData/FinalData/yearly_capita_data.csv', index=False)"
   ]
  },
  {
   "cell_type": "code",
   "execution_count": null,
   "id": "c1543454",
   "metadata": {},
   "outputs": [],
   "source": []
  }
 ],
 "metadata": {
  "kernelspec": {
   "display_name": "erdos_spring_2025",
   "language": "python",
   "name": "python3"
  },
  "language_info": {
   "codemirror_mode": {
    "name": "ipython",
    "version": 3
   },
   "file_extension": ".py",
   "mimetype": "text/x-python",
   "name": "python",
   "nbconvert_exporter": "python",
   "pygments_lexer": "ipython3",
   "version": "3.12.8"
  }
 },
 "nbformat": 4,
 "nbformat_minor": 5
}
