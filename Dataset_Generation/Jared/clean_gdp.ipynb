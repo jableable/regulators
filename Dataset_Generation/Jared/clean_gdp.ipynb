{
 "cells": [
  {
   "cell_type": "code",
   "execution_count": 16,
   "metadata": {},
   "outputs": [],
   "source": [
    "# here, we convert gdp-1997-2023.csv into the proper timer series format and output gdp-1997-2023-final-final.csv\n",
    "# gdp-1997-2023.csv should be placed in ./Data directory\n",
    "\n",
    "import pandas as pd\n",
    "import numpy as np\n",
    "import matplotlib.pyplot as plt\n",
    "import warnings\n",
    "warnings.filterwarnings('ignore')"
   ]
  },
  {
   "cell_type": "code",
   "execution_count": 17,
   "metadata": {},
   "outputs": [],
   "source": [
    "df = pd.read_csv('./Data/gdp-1997-2023.csv')\n",
    "\n",
    "d = {'state':[], 'date':[], 'gdp_rel_2017':[], 'yearly_gdp_rel_2017':[]}\n",
    "new_df = pd.DataFrame(data=d)\n",
    "new_new_df = pd.DataFrame(data=d)"
   ]
  },
  {
   "cell_type": "code",
   "execution_count": 18,
   "metadata": {},
   "outputs": [],
   "source": [
    "state_names = [\n",
    "    \"Alabama\", \"Alaska\", \"Arizona\", \"Arkansas\", \"California\", \"Colorado\", \"Connecticut\", \"Delaware\", \"Florida\", \"Georgia\",\n",
    "    \"Hawaii\", \"Idaho\", \"Illinois\", \"Indiana\", \"Iowa\", \"Kansas\", \"Kentucky\", \"Louisiana\", \"Maine\", \"Maryland\",\n",
    "    \"Massachusetts\", \"Michigan\", \"Minnesota\", \"Mississippi\", \"Missouri\", \"Montana\", \"Nebraska\", \"Nevada\", \"New Hampshire\", \"New Jersey\",\n",
    "    \"New Mexico\", \"New York\", \"North Carolina\", \"North Dakota\", \"Ohio\", \"Oklahoma\", \"Oregon\", \"Pennsylvania\", \"Rhode Island\", \"South Carolina\",\n",
    "    \"South Dakota\", \"Tennessee\", \"Texas\", \"Utah\", \"Vermont\", \"Virginia\", \"Washington\", \"West Virginia\", \"Wisconsin\", \"Wyoming\"\n",
    "]\n",
    "\n",
    "abbreviations = [\n",
    "    \"AL\", \"AK\", \"AZ\", \"AR\", \"CA\", \"CO\", \"CT\", \"DE\", \"FL\", \"GA\",\n",
    "    \"HI\", \"ID\", \"IL\", \"IN\", \"IA\", \"KS\", \"KY\", \"LA\", \"ME\", \"MD\",\n",
    "    \"MA\", \"MI\", \"MN\", \"MS\", \"MO\", \"MT\", \"NE\", \"NV\", \"NH\", \"NJ\",\n",
    "    \"NM\", \"NY\", \"NC\", \"ND\", \"OH\", \"OK\", \"OR\", \"PA\", \"RI\", \"SC\",\n",
    "    \"SD\", \"TN\", \"TX\", \"UT\", \"VT\", \"VA\", \"WA\", \"WV\", \"WI\", \"WY\"\n",
    "]\n",
    "name_dict = {state_names[i]:abbreviations[i] for i in range(len(state_names))}"
   ]
  },
  {
   "cell_type": "code",
   "execution_count": 19,
   "metadata": {},
   "outputs": [],
   "source": [
    "df = df[df.LineCode==1.0]\n",
    "df = df[df.GeoName.isin(state_names)]\n",
    "df = df.drop(['GeoFIPS','Region','IndustryClassification','TableName','Description','Unit'],axis=1)\n",
    "df = df.reset_index(drop=True)"
   ]
  },
  {
   "cell_type": "code",
   "execution_count": 20,
   "metadata": {},
   "outputs": [],
   "source": [
    "for i in range(50):    \n",
    "    for year in range(1997,2024):\n",
    "        new_df.loc[len(new_df)+1] = None\n",
    "        new_df = new_df.astype('object')\n",
    "        new_df.loc[len(new_df)]['state']=df.iloc[i]['GeoName']\n",
    "        new_df.loc[len(new_df)]['date']=str(year)\n",
    "        new_df.loc[len(new_df)]['gdp_rel_2017']=df.iloc[i][str(year)]\n",
    "\n",
    "new_df['state'] = new_df['state'].map(name_dict)"
   ]
  },
  {
   "cell_type": "code",
   "execution_count": 22,
   "metadata": {},
   "outputs": [],
   "source": [
    "# loop through each of 27 years in given row in dataframe\n",
    "# copy each year's GDP 12 times (one for each month) into 12 rows of new_new_df\n",
    "# for a total of 12*27*50 entries\n",
    "\n",
    "month_counter = 1   # acts like modulo 12 arithmetic\n",
    "idx = 0             # keeps track of row index\n",
    "\n",
    "for state in range(50):\n",
    "    for year in range(1997,2024):\n",
    "\n",
    "        for month in range(12):\n",
    "            \n",
    "            if month_counter < 12:      \n",
    "                new_new_df.loc[idx*12+month] = [new_df.iloc[state*27][0], \n",
    "                                                str(year)+'-'+'{:02d}'.format(month_counter), \n",
    "                                                None,\n",
    "                                                new_df.gdp_rel_2017.iloc[idx]]  \n",
    "                month_counter += 1\n",
    "            else:\n",
    "                new_new_df.loc[idx*12+month] = [new_df.iloc[state*27][0], \n",
    "                                                str(year)+'-'+'{:02d}'.format(month_counter), \n",
    "                                                new_df.gdp_rel_2017.iloc[idx]/12,\n",
    "                                                new_df.gdp_rel_2017.iloc[idx]]\n",
    "                month_counter = 1\n",
    "        idx += 1"
   ]
  },
  {
   "cell_type": "code",
   "execution_count": 23,
   "metadata": {},
   "outputs": [],
   "source": [
    "# The above dataframe construction is nowhere near efficient, but it works. Here are some quick-fix things to make it work.\n",
    "\n",
    "new_new_df.date = new_new_df.date.apply(pd.to_datetime)\n",
    "new_new_df.date = new_new_df.date.dt.strftime('%Y-%m')\n",
    "new_new_df = new_new_df.sort_values(['state','date']).reset_index(drop=True)"
   ]
  },
  {
   "cell_type": "code",
   "execution_count": 24,
   "metadata": {},
   "outputs": [],
   "source": [
    "# linear interpolation to fill in months based on end-of-year data\n",
    "# and create yearly_gdp_rel_2017 column\n",
    "\n",
    "for state in abbreviations:\n",
    "    new_new_df.loc[new_new_df.state == state,'gdp_rel_2017_interp']=new_new_df[new_new_df.state == state].gdp_rel_2017.interpolate(method='linear')\n"
   ]
  },
  {
   "cell_type": "code",
   "execution_count": 25,
   "metadata": {},
   "outputs": [],
   "source": [
    "# export new_new_df to a .csv\n",
    "\n",
    "new_new_df.to_csv('./Data/gdp-1997-2023-final-final.csv')"
   ]
  }
 ],
 "metadata": {
  "kernelspec": {
   "display_name": "erdos_spring_2025",
   "language": "python",
   "name": "python3"
  },
  "language_info": {
   "codemirror_mode": {
    "name": "ipython",
    "version": 3
   },
   "file_extension": ".py",
   "mimetype": "text/x-python",
   "name": "python",
   "nbconvert_exporter": "python",
   "pygments_lexer": "ipython3",
   "version": "3.12.8"
  }
 },
 "nbformat": 4,
 "nbformat_minor": 2
}
