{
 "cells": [
  {
   "cell_type": "code",
   "execution_count": 5,
   "metadata": {},
   "outputs": [],
   "source": [
    "# here, we convert monthly-emissions-1996-2024.csv into the proper timer series format and output monthly-emissions-1996-2024-final.csv\n",
    "# monthly-emissions-1996-2024.csv should be placed in ./Data directory\n",
    "\n",
    "import pandas as pd\n",
    "import warnings\n",
    "warnings.filterwarnings('ignore')\n",
    "\n",
    "df = pd.read_csv('./Data/monthly-emissions-1996-2024.csv')"
   ]
  },
  {
   "cell_type": "code",
   "execution_count": 6,
   "metadata": {},
   "outputs": [],
   "source": [
    "# reformat year and month within a single column of form yyyy-dd\n",
    "\n",
    "df['Month'] = df['Month'].apply(\"{:02d}\".format)\n",
    "df['date']=df['Year'].astype(str)+'-'+df['Month'].astype(str)\n",
    "df = df.rename(columns={'State':'state'})\n",
    "\n",
    "# sum up CO2 emissions by state, month, and year\n",
    "\n",
    "new_df = df.groupby(['state', 'date'])['CO2 Mass (short tons)'].sum().reset_index(name='total_co2')"
   ]
  },
  {
   "cell_type": "code",
   "execution_count": 7,
   "metadata": {},
   "outputs": [],
   "source": [
    "new_df.to_csv('./Data/monthly-emissions-1996-2024-final.csv')"
   ]
  }
 ],
 "metadata": {
  "kernelspec": {
   "display_name": "erdos_spring_2025",
   "language": "python",
   "name": "python3"
  },
  "language_info": {
   "codemirror_mode": {
    "name": "ipython",
    "version": 3
   },
   "file_extension": ".py",
   "mimetype": "text/x-python",
   "name": "python",
   "nbconvert_exporter": "python",
   "pygments_lexer": "ipython3",
   "version": "3.12.8"
  }
 },
 "nbformat": 4,
 "nbformat_minor": 2
}
