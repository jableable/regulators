{
 "cells": [
  {
   "cell_type": "code",
   "execution_count": 1,
   "metadata": {},
   "outputs": [],
   "source": [
    "# here, we convert monthly-emissions-1996-2024.csv into the proper timer series format \n",
    "# and output monthly-emissions-1996-2024-final.csv\n",
    "# we also incorporate 1990-1995 data from monthly_emissions_1990_1996.csv\n",
    "\n",
    "import pandas as pd\n",
    "import warnings\n",
    "warnings.filterwarnings('ignore')\n",
    "\n",
    "df96 = pd.read_csv('../../SharedData/dataset-generation/monthly-emissions-1996-2024.csv')\n",
    "df90 = pd.read_csv('../../SharedData/dataset-generation/monthly_emissions_1990_1996.csv')"
   ]
  },
  {
   "cell_type": "code",
   "execution_count": 2,
   "metadata": {},
   "outputs": [],
   "source": [
    "df90['date']=df90['date'].apply(pd.to_datetime)\n",
    "df90 = df90.rename(columns={'monthly_emissions': 'total_co2'})\n",
    "df90 = df90[['state','date','total_co2']]"
   ]
  },
  {
   "cell_type": "code",
   "execution_count": null,
   "metadata": {},
   "outputs": [],
   "source": [
    "# reformat year and month within a single column of form yyyy-dd\n",
    "\n",
    "df96['Month'] = df96['Month'].apply(\"{:02d}\".format)\n",
    "df96['date'] = df96['Year'].astype(str)+'-'+df96['Month'].astype(str)\n",
    "df96 = df96.rename(columns={'State':'state'})\n",
    "\n",
    "# sum up CO2 emissions by state, month, and year\n",
    "\n",
    "new_df = df96.groupby(['state', 'date'])['CO2 Mass (short tons)'].sum().reset_index(name='total_co2')"
   ]
  },
  {
   "cell_type": "code",
   "execution_count": null,
   "metadata": {},
   "outputs": [],
   "source": [
    "new_df['date'] = new_df['date'].apply(pd.to_datetime)\n",
    "new_df = new_df[new_df['date']>='1997-01-01']\n",
    "new_df = new_df[~new_df['state'].isin(['AK','HI'])]\n",
    "new_df = pd.concat([new_df,df90],axis=0)\n",
    "new_df = new_df.sort_values(['state','date']).reset_index(drop=True)"
   ]
  },
  {
   "cell_type": "code",
   "execution_count": 5,
   "metadata": {},
   "outputs": [],
   "source": [
    "new_df.to_csv('../../SharedData/dataset-generation-final/updated-monthly-emissions-1990-2024-final.csv')"
   ]
  }
 ],
 "metadata": {
  "kernelspec": {
   "display_name": "erdos_spring_2025",
   "language": "python",
   "name": "python3"
  },
  "language_info": {
   "codemirror_mode": {
    "name": "ipython",
    "version": 3
   },
   "file_extension": ".py",
   "mimetype": "text/x-python",
   "name": "python",
   "nbconvert_exporter": "python",
   "pygments_lexer": "ipython3",
   "version": "3.12.8"
  }
 },
 "nbformat": 4,
 "nbformat_minor": 2
}
