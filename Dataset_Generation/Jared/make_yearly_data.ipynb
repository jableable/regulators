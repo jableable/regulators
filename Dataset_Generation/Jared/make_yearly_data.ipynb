{
 "cells": [
  {
   "cell_type": "code",
   "execution_count": 13,
   "metadata": {},
   "outputs": [],
   "source": [
    "# Here, we convert total_state_data.csv into annual data by taking averages\n",
    "# Output is yearly_total_data.csv\n",
    "# total_state_data.csv should be placed in ./Data directory\n",
    "\n",
    "import pandas as pd\n",
    "import warnings\n",
    "warnings.filterwarnings('ignore')\n",
    "\n",
    "df = pd.read_csv('./Data/total_state_data.csv')"
   ]
  },
  {
   "cell_type": "code",
   "execution_count": 14,
   "metadata": {},
   "outputs": [
    {
     "data": {
      "text/html": [
       "<div>\n",
       "<style scoped>\n",
       "    .dataframe tbody tr th:only-of-type {\n",
       "        vertical-align: middle;\n",
       "    }\n",
       "\n",
       "    .dataframe tbody tr th {\n",
       "        vertical-align: top;\n",
       "    }\n",
       "\n",
       "    .dataframe thead th {\n",
       "        text-align: right;\n",
       "    }\n",
       "</style>\n",
       "<table border=\"1\" class=\"dataframe\">\n",
       "  <thead>\n",
       "    <tr style=\"text-align: right;\">\n",
       "      <th></th>\n",
       "      <th>state</th>\n",
       "      <th>date</th>\n",
       "      <th>population</th>\n",
       "      <th>total_co2</th>\n",
       "      <th>prcp</th>\n",
       "      <th>snow</th>\n",
       "      <th>tavg</th>\n",
       "      <th>gdp_rel_2017</th>\n",
       "      <th>energy_prod</th>\n",
       "      <th>energy_use</th>\n",
       "      <th>energy_flow</th>\n",
       "    </tr>\n",
       "  </thead>\n",
       "  <tbody>\n",
       "    <tr>\n",
       "      <th>0</th>\n",
       "      <td>AL</td>\n",
       "      <td>1990-01-01</td>\n",
       "      <td>4050055.0</td>\n",
       "      <td>4.262280e+06</td>\n",
       "      <td>7.89</td>\n",
       "      <td>0.0</td>\n",
       "      <td>46.8</td>\n",
       "      <td>NaN</td>\n",
       "      <td>1269484.0</td>\n",
       "      <td>1599432.0</td>\n",
       "      <td>-329948.0</td>\n",
       "    </tr>\n",
       "    <tr>\n",
       "      <th>1</th>\n",
       "      <td>AL</td>\n",
       "      <td>1990-02-01</td>\n",
       "      <td>4050055.0</td>\n",
       "      <td>3.698828e+06</td>\n",
       "      <td>9.35</td>\n",
       "      <td>0.0</td>\n",
       "      <td>51.9</td>\n",
       "      <td>NaN</td>\n",
       "      <td>1269484.0</td>\n",
       "      <td>1599432.0</td>\n",
       "      <td>-329948.0</td>\n",
       "    </tr>\n",
       "    <tr>\n",
       "      <th>2</th>\n",
       "      <td>AL</td>\n",
       "      <td>1990-03-01</td>\n",
       "      <td>4050055.0</td>\n",
       "      <td>3.780858e+06</td>\n",
       "      <td>8.92</td>\n",
       "      <td>0.0</td>\n",
       "      <td>54.2</td>\n",
       "      <td>NaN</td>\n",
       "      <td>1269484.0</td>\n",
       "      <td>1599432.0</td>\n",
       "      <td>-329948.0</td>\n",
       "    </tr>\n",
       "    <tr>\n",
       "      <th>3</th>\n",
       "      <td>AL</td>\n",
       "      <td>1990-04-01</td>\n",
       "      <td>4050055.0</td>\n",
       "      <td>3.472907e+06</td>\n",
       "      <td>4.48</td>\n",
       "      <td>0.0</td>\n",
       "      <td>59.7</td>\n",
       "      <td>NaN</td>\n",
       "      <td>1269484.0</td>\n",
       "      <td>1599432.0</td>\n",
       "      <td>-329948.0</td>\n",
       "    </tr>\n",
       "    <tr>\n",
       "      <th>4</th>\n",
       "      <td>AL</td>\n",
       "      <td>1990-05-01</td>\n",
       "      <td>4050055.0</td>\n",
       "      <td>4.191628e+06</td>\n",
       "      <td>4.38</td>\n",
       "      <td>0.0</td>\n",
       "      <td>67.3</td>\n",
       "      <td>NaN</td>\n",
       "      <td>1269484.0</td>\n",
       "      <td>1599432.0</td>\n",
       "      <td>-329948.0</td>\n",
       "    </tr>\n",
       "  </tbody>\n",
       "</table>\n",
       "</div>"
      ],
      "text/plain": [
       "  state        date  population     total_co2  prcp  snow  tavg  gdp_rel_2017  \\\n",
       "0    AL  1990-01-01   4050055.0  4.262280e+06  7.89   0.0  46.8           NaN   \n",
       "1    AL  1990-02-01   4050055.0  3.698828e+06  9.35   0.0  51.9           NaN   \n",
       "2    AL  1990-03-01   4050055.0  3.780858e+06  8.92   0.0  54.2           NaN   \n",
       "3    AL  1990-04-01   4050055.0  3.472907e+06  4.48   0.0  59.7           NaN   \n",
       "4    AL  1990-05-01   4050055.0  4.191628e+06  4.38   0.0  67.3           NaN   \n",
       "\n",
       "   energy_prod  energy_use  energy_flow  \n",
       "0    1269484.0   1599432.0    -329948.0  \n",
       "1    1269484.0   1599432.0    -329948.0  \n",
       "2    1269484.0   1599432.0    -329948.0  \n",
       "3    1269484.0   1599432.0    -329948.0  \n",
       "4    1269484.0   1599432.0    -329948.0  "
      ]
     },
     "execution_count": 14,
     "metadata": {},
     "output_type": "execute_result"
    }
   ],
   "source": [
    "df.head()"
   ]
  },
  {
   "cell_type": "code",
   "execution_count": 15,
   "metadata": {},
   "outputs": [],
   "source": [
    "df['date']=pd.to_datetime(df['date'])\n",
    "df['year'] = df['date'].dt.year"
   ]
  },
  {
   "cell_type": "code",
   "execution_count": 16,
   "metadata": {},
   "outputs": [],
   "source": [
    "new_df = df.groupby(['state','year'], as_index=False)[['year','population','total_co2','prcp','snow','tavg','gdp_rel_2017','energy_prod', 'energy_use', 'energy_flow']].mean().rename(columns={\"date\": \"year\"})"
   ]
  },
  {
   "cell_type": "code",
   "execution_count": 17,
   "metadata": {},
   "outputs": [],
   "source": [
    "new_df.to_csv('./Data/yearly_total_data.csv')"
   ]
  }
 ],
 "metadata": {
  "kernelspec": {
   "display_name": "erdos_spring_2025",
   "language": "python",
   "name": "python3"
  },
  "language_info": {
   "codemirror_mode": {
    "name": "ipython",
    "version": 3
   },
   "file_extension": ".py",
   "mimetype": "text/x-python",
   "name": "python",
   "nbconvert_exporter": "python",
   "pygments_lexer": "ipython3",
   "version": "3.12.8"
  }
 },
 "nbformat": 4,
 "nbformat_minor": 2
}
