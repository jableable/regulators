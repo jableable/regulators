{
 "cells": [
  {
   "cell_type": "code",
   "execution_count": null,
   "metadata": {},
   "outputs": [],
   "source": [
    "# Here, we convert total_state_data.csv into annual data by taking averages\n",
    "# Output is yearly_total_data.csv\n",
    "# total_state_data.csv should be placed in ./Data directory\n",
    "\n",
    "import pandas as pd\n",
    "import warnings\n",
    "warnings.filterwarnings('ignore')\n",
    "\n",
    "df = pd.read_csv('./Data/total_state_data.csv')"
   ]
  },
  {
   "cell_type": "code",
   "execution_count": 59,
   "metadata": {},
   "outputs": [],
   "source": [
    "df['date']=pd.to_datetime(df['date'])\n",
    "df['year'] = df['date'].dt.year\n",
    "df['population'] = df['population'].str.replace(',', '')\n",
    "df['population'] = df['population'].astype(int)"
   ]
  },
  {
   "cell_type": "code",
   "execution_count": 60,
   "metadata": {},
   "outputs": [],
   "source": [
    "new_df = df.groupby(['state','year'], as_index=False)[['year','population','total_co2','prcp','snow','tavg','gdp_rel_2017']].mean().rename(columns={\"date\": \"year\"})"
   ]
  },
  {
   "cell_type": "code",
   "execution_count": 61,
   "metadata": {},
   "outputs": [
    {
     "data": {
      "text/html": [
       "<div>\n",
       "<style scoped>\n",
       "    .dataframe tbody tr th:only-of-type {\n",
       "        vertical-align: middle;\n",
       "    }\n",
       "\n",
       "    .dataframe tbody tr th {\n",
       "        vertical-align: top;\n",
       "    }\n",
       "\n",
       "    .dataframe thead th {\n",
       "        text-align: right;\n",
       "    }\n",
       "</style>\n",
       "<table border=\"1\" class=\"dataframe\">\n",
       "  <thead>\n",
       "    <tr style=\"text-align: right;\">\n",
       "      <th></th>\n",
       "      <th>state</th>\n",
       "      <th>year</th>\n",
       "      <th>population</th>\n",
       "      <th>total_co2</th>\n",
       "      <th>prcp</th>\n",
       "      <th>snow</th>\n",
       "      <th>tavg</th>\n",
       "      <th>gdp_rel_2017</th>\n",
       "    </tr>\n",
       "  </thead>\n",
       "  <tbody>\n",
       "    <tr>\n",
       "      <th>0</th>\n",
       "      <td>AK</td>\n",
       "      <td>2019.0</td>\n",
       "      <td>734820.0</td>\n",
       "      <td>0.000000e+00</td>\n",
       "      <td>1.370000</td>\n",
       "      <td>5.825000</td>\n",
       "      <td>32.591667</td>\n",
       "      <td>52377.5</td>\n",
       "    </tr>\n",
       "    <tr>\n",
       "      <th>1</th>\n",
       "      <td>AL</td>\n",
       "      <td>1997.0</td>\n",
       "      <td>4367935.0</td>\n",
       "      <td>6.596638e+06</td>\n",
       "      <td>4.804167</td>\n",
       "      <td>0.000000</td>\n",
       "      <td>59.775000</td>\n",
       "      <td>154700.0</td>\n",
       "    </tr>\n",
       "    <tr>\n",
       "      <th>2</th>\n",
       "      <td>AL</td>\n",
       "      <td>1998.0</td>\n",
       "      <td>4404701.0</td>\n",
       "      <td>6.713102e+06</td>\n",
       "      <td>3.809167</td>\n",
       "      <td>0.058333</td>\n",
       "      <td>63.333333</td>\n",
       "      <td>160396.4</td>\n",
       "    </tr>\n",
       "    <tr>\n",
       "      <th>3</th>\n",
       "      <td>AL</td>\n",
       "      <td>1999.0</td>\n",
       "      <td>4430141.0</td>\n",
       "      <td>6.998195e+06</td>\n",
       "      <td>3.810000</td>\n",
       "      <td>0.000000</td>\n",
       "      <td>62.516667</td>\n",
       "      <td>166531.8</td>\n",
       "    </tr>\n",
       "    <tr>\n",
       "      <th>4</th>\n",
       "      <td>AL</td>\n",
       "      <td>2000.0</td>\n",
       "      <td>4452173.0</td>\n",
       "      <td>7.400530e+06</td>\n",
       "      <td>3.575833</td>\n",
       "      <td>0.041667</td>\n",
       "      <td>61.616667</td>\n",
       "      <td>168695.3</td>\n",
       "    </tr>\n",
       "  </tbody>\n",
       "</table>\n",
       "</div>"
      ],
      "text/plain": [
       "  state    year  population     total_co2      prcp      snow       tavg  \\\n",
       "0    AK  2019.0    734820.0  0.000000e+00  1.370000  5.825000  32.591667   \n",
       "1    AL  1997.0   4367935.0  6.596638e+06  4.804167  0.000000  59.775000   \n",
       "2    AL  1998.0   4404701.0  6.713102e+06  3.809167  0.058333  63.333333   \n",
       "3    AL  1999.0   4430141.0  6.998195e+06  3.810000  0.000000  62.516667   \n",
       "4    AL  2000.0   4452173.0  7.400530e+06  3.575833  0.041667  61.616667   \n",
       "\n",
       "   gdp_rel_2017  \n",
       "0       52377.5  \n",
       "1      154700.0  \n",
       "2      160396.4  \n",
       "3      166531.8  \n",
       "4      168695.3  "
      ]
     },
     "execution_count": 61,
     "metadata": {},
     "output_type": "execute_result"
    }
   ],
   "source": [
    "new_df.head()"
   ]
  },
  {
   "cell_type": "code",
   "execution_count": null,
   "metadata": {},
   "outputs": [],
   "source": [
    "new_df.to_csv('./Data/yearly_total_data.csv')"
   ]
  }
 ],
 "metadata": {
  "kernelspec": {
   "display_name": "erdos_spring_2025",
   "language": "python",
   "name": "python3"
  },
  "language_info": {
   "codemirror_mode": {
    "name": "ipython",
    "version": 3
   },
   "file_extension": ".py",
   "mimetype": "text/x-python",
   "name": "python",
   "nbconvert_exporter": "python",
   "pygments_lexer": "ipython3",
   "version": "3.12.8"
  }
 },
 "nbformat": 4,
 "nbformat_minor": 2
}
