{
 "cells": [
  {
   "cell_type": "code",
   "execution_count": 5,
   "metadata": {},
   "outputs": [],
   "source": [
    "# Here, we convert total_state_data.csv into annual data by taking averages\n",
    "# Output is yearly_total_data.csv\n",
    "# total_state_data.csv should be placed in ./Data directory\n",
    "\n",
    "import pandas as pd\n",
    "import warnings\n",
    "warnings.filterwarnings('ignore')\n",
    "\n",
    "df = pd.read_csv('./Data/total_state_data.csv')"
   ]
  },
  {
   "cell_type": "code",
   "execution_count": 9,
   "metadata": {},
   "outputs": [
    {
     "data": {
      "text/html": [
       "<div>\n",
       "<style scoped>\n",
       "    .dataframe tbody tr th:only-of-type {\n",
       "        vertical-align: middle;\n",
       "    }\n",
       "\n",
       "    .dataframe tbody tr th {\n",
       "        vertical-align: top;\n",
       "    }\n",
       "\n",
       "    .dataframe thead th {\n",
       "        text-align: right;\n",
       "    }\n",
       "</style>\n",
       "<table border=\"1\" class=\"dataframe\">\n",
       "  <thead>\n",
       "    <tr style=\"text-align: right;\">\n",
       "      <th></th>\n",
       "      <th>state</th>\n",
       "      <th>date</th>\n",
       "      <th>population</th>\n",
       "      <th>total_co2</th>\n",
       "      <th>prcp</th>\n",
       "      <th>snow</th>\n",
       "      <th>tavg</th>\n",
       "      <th>gdp_rel_2017</th>\n",
       "      <th>energy_prod</th>\n",
       "      <th>energy_use</th>\n",
       "      <th>energy_flow</th>\n",
       "      <th>year</th>\n",
       "    </tr>\n",
       "  </thead>\n",
       "  <tbody>\n",
       "    <tr>\n",
       "      <th>0</th>\n",
       "      <td>AL</td>\n",
       "      <td>1997-01-01</td>\n",
       "      <td>4367935</td>\n",
       "      <td>6519729.351</td>\n",
       "      <td>5.80</td>\n",
       "      <td>0.0</td>\n",
       "      <td>40.7</td>\n",
       "      <td>154700.0</td>\n",
       "      <td>1629937</td>\n",
       "      <td>1903449</td>\n",
       "      <td>-273512</td>\n",
       "      <td>1997</td>\n",
       "    </tr>\n",
       "    <tr>\n",
       "      <th>1</th>\n",
       "      <td>AL</td>\n",
       "      <td>1997-02-01</td>\n",
       "      <td>4367935</td>\n",
       "      <td>5453766.419</td>\n",
       "      <td>4.98</td>\n",
       "      <td>0.0</td>\n",
       "      <td>47.8</td>\n",
       "      <td>154700.0</td>\n",
       "      <td>1629937</td>\n",
       "      <td>1903449</td>\n",
       "      <td>-273512</td>\n",
       "      <td>1997</td>\n",
       "    </tr>\n",
       "    <tr>\n",
       "      <th>2</th>\n",
       "      <td>AL</td>\n",
       "      <td>1997-03-01</td>\n",
       "      <td>4367935</td>\n",
       "      <td>5161639.112</td>\n",
       "      <td>6.39</td>\n",
       "      <td>0.0</td>\n",
       "      <td>57.0</td>\n",
       "      <td>154700.0</td>\n",
       "      <td>1629937</td>\n",
       "      <td>1903449</td>\n",
       "      <td>-273512</td>\n",
       "      <td>1997</td>\n",
       "    </tr>\n",
       "    <tr>\n",
       "      <th>3</th>\n",
       "      <td>AL</td>\n",
       "      <td>1997-04-01</td>\n",
       "      <td>4367935</td>\n",
       "      <td>5475476.441</td>\n",
       "      <td>3.25</td>\n",
       "      <td>0.0</td>\n",
       "      <td>56.7</td>\n",
       "      <td>154700.0</td>\n",
       "      <td>1629937</td>\n",
       "      <td>1903449</td>\n",
       "      <td>-273512</td>\n",
       "      <td>1997</td>\n",
       "    </tr>\n",
       "    <tr>\n",
       "      <th>4</th>\n",
       "      <td>AL</td>\n",
       "      <td>1997-05-01</td>\n",
       "      <td>4367935</td>\n",
       "      <td>6544787.461</td>\n",
       "      <td>6.21</td>\n",
       "      <td>0.0</td>\n",
       "      <td>65.2</td>\n",
       "      <td>154700.0</td>\n",
       "      <td>1629937</td>\n",
       "      <td>1903449</td>\n",
       "      <td>-273512</td>\n",
       "      <td>1997</td>\n",
       "    </tr>\n",
       "  </tbody>\n",
       "</table>\n",
       "</div>"
      ],
      "text/plain": [
       "  state       date  population    total_co2  prcp  snow  tavg  gdp_rel_2017  \\\n",
       "0    AL 1997-01-01     4367935  6519729.351  5.80   0.0  40.7      154700.0   \n",
       "1    AL 1997-02-01     4367935  5453766.419  4.98   0.0  47.8      154700.0   \n",
       "2    AL 1997-03-01     4367935  5161639.112  6.39   0.0  57.0      154700.0   \n",
       "3    AL 1997-04-01     4367935  5475476.441  3.25   0.0  56.7      154700.0   \n",
       "4    AL 1997-05-01     4367935  6544787.461  6.21   0.0  65.2      154700.0   \n",
       "\n",
       "   energy_prod  energy_use  energy_flow  year  \n",
       "0      1629937     1903449      -273512  1997  \n",
       "1      1629937     1903449      -273512  1997  \n",
       "2      1629937     1903449      -273512  1997  \n",
       "3      1629937     1903449      -273512  1997  \n",
       "4      1629937     1903449      -273512  1997  "
      ]
     },
     "execution_count": 9,
     "metadata": {},
     "output_type": "execute_result"
    }
   ],
   "source": [
    "df.head()"
   ]
  },
  {
   "cell_type": "code",
   "execution_count": 6,
   "metadata": {},
   "outputs": [],
   "source": [
    "df['date']=pd.to_datetime(df['date'])\n",
    "df['year'] = df['date'].dt.year"
   ]
  },
  {
   "cell_type": "code",
   "execution_count": 11,
   "metadata": {},
   "outputs": [],
   "source": [
    "new_df = df.groupby(['state','year'], as_index=False)[['year','population','total_co2','prcp','snow','tavg','gdp_rel_2017','energy_prod', 'energy_use', 'energy_flow']].mean().rename(columns={\"date\": \"year\"})"
   ]
  },
  {
   "cell_type": "code",
   "execution_count": 12,
   "metadata": {},
   "outputs": [],
   "source": [
    "new_df.to_csv('./Data/yearly_total_data.csv')"
   ]
  }
 ],
 "metadata": {
  "kernelspec": {
   "display_name": "erdos_spring_2025",
   "language": "python",
   "name": "python3"
  },
  "language_info": {
   "codemirror_mode": {
    "name": "ipython",
    "version": 3
   },
   "file_extension": ".py",
   "mimetype": "text/x-python",
   "name": "python",
   "nbconvert_exporter": "python",
   "pygments_lexer": "ipython3",
   "version": "3.12.8"
  }
 },
 "nbformat": 4,
 "nbformat_minor": 2
}
