{
 "cells": [
  {
   "cell_type": "code",
   "execution_count": 54,
   "metadata": {},
   "outputs": [],
   "source": [
    "# here, we combine energy_use.csv and energy_production.csv into the proper timer series format and output energy-final.csv\n",
    "# energy_use.csv and energy_production.csv should be placed in ./Data directory\n",
    "\n",
    "import pandas as pd\n",
    "import warnings\n",
    "warnings.filterwarnings('ignore')\n",
    "\n",
    "df_use = pd.read_csv('./Data/energy_use.csv')\n",
    "df_prod = pd.read_csv('./Data/energy_production.csv')\n",
    "\n",
    "d = {'state':[], 'date':[], 'energy_prod':[], 'energy_use':[]}\n",
    "new_df = pd.DataFrame(data=d)"
   ]
  },
  {
   "cell_type": "code",
   "execution_count": 55,
   "metadata": {},
   "outputs": [],
   "source": [
    "abbreviations = [\n",
    "    \"AL\", \"AK\", \"AZ\", \"AR\", \"CA\", \"CO\", \"CT\", \"DE\", \"FL\", \"GA\",\n",
    "    \"HI\", \"ID\", \"IL\", \"IN\", \"IA\", \"KS\", \"KY\", \"LA\", \"ME\", \"MD\",\n",
    "    \"MA\", \"MI\", \"MN\", \"MS\", \"MO\", \"MT\", \"NE\", \"NV\", \"NH\", \"NJ\",\n",
    "    \"NM\", \"NY\", \"NC\", \"ND\", \"OH\", \"OK\", \"OR\", \"PA\", \"RI\", \"SC\",\n",
    "    \"SD\", \"TN\", \"TX\", \"UT\", \"VT\", \"VA\", \"WA\", \"WV\", \"WI\", \"WY\"\n",
    "]"
   ]
  },
  {
   "cell_type": "code",
   "execution_count": 56,
   "metadata": {},
   "outputs": [],
   "source": [
    "df_use = df_use[df_use['State'].isin(abbreviations)]\n",
    "df_prod = df_prod[df_prod['State'].isin(abbreviations)]"
   ]
  },
  {
   "cell_type": "code",
   "execution_count": 58,
   "metadata": {},
   "outputs": [],
   "source": [
    "# loop through each year in 1960-2022 in given row in dataframe\n",
    "# copy each year's energy data 12 times (one for each month) into 12 rows of new_df\n",
    "# for a total of 12*63*50 entries\n",
    "\n",
    "month_counter = 1   # acts like modulo 12 arithmetic\n",
    "idx = 0             # keeps track of row index\n",
    "\n",
    "for state in range(50):\n",
    "    for year in range(1,len(df_prod.iloc[state])):\n",
    "        for month in range(12):\n",
    "            new_df.loc[idx] = [df_prod.iloc[state][0],df_prod.columns[year]+'-'+'{:02d}'.format(month_counter),df_prod.iloc[state][year], df_use.iloc[state][year]]\n",
    "            if month_counter < 12:        \n",
    "                month_counter += 1\n",
    "            else:\n",
    "                month_counter = 1\n",
    "            idx += 1"
   ]
  },
  {
   "cell_type": "code",
   "execution_count": 59,
   "metadata": {},
   "outputs": [],
   "source": [
    "new_df['energy_use'] = new_df['energy_use'].str.replace(',', '')\n",
    "new_df['energy_use'] = new_df['energy_use'].astype(int)\n",
    "\n",
    "new_df['energy_prod'] = new_df['energy_prod'].str.replace(',', '')\n",
    "new_df['energy_prod'] = new_df['energy_prod'].astype(int)"
   ]
  },
  {
   "cell_type": "code",
   "execution_count": 62,
   "metadata": {},
   "outputs": [],
   "source": [
    "new_df['energy_flow'] = new_df['energy_prod']-new_df['energy_use']"
   ]
  },
  {
   "cell_type": "code",
   "execution_count": 66,
   "metadata": {},
   "outputs": [],
   "source": [
    "# export new_df to a .csv\n",
    "\n",
    "new_df.to_csv('./Data/energy_final.csv',index=False)"
   ]
  }
 ],
 "metadata": {
  "kernelspec": {
   "display_name": "erdos_spring_2025",
   "language": "python",
   "name": "python3"
  },
  "language_info": {
   "codemirror_mode": {
    "name": "ipython",
    "version": 3
   },
   "file_extension": ".py",
   "mimetype": "text/x-python",
   "name": "python",
   "nbconvert_exporter": "python",
   "pygments_lexer": "ipython3",
   "version": "3.12.8"
  }
 },
 "nbformat": 4,
 "nbformat_minor": 2
}
