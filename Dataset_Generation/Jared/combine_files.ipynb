{
 "cells": [
  {
   "cell_type": "code",
   "execution_count": 1,
   "metadata": {},
   "outputs": [],
   "source": [
    "# here, we combine all .csv files into the single file total_state_data.csv\n",
    "# all .csv files to be combined should be placed in ./Data directory\n",
    "\n",
    "import pandas as pd\n",
    "import warnings\n",
    "warnings.filterwarnings('ignore')\n",
    "\n",
    "df1 = pd.read_csv('../../SharedData/dataset-generation-final/population-1990-2020-final.csv')\n",
    "df2 = pd.read_csv('../../SharedData/dataset-generation-final/monthly_emissions_1990_2024')\n",
    "df3 = pd.read_csv('../../SharedData/dataset-generation-final/monthly-weather-1990-2019-final.csv')\n",
    "df4 = pd.read_csv('../../SharedData/dataset-generation-final/gdp-1997-2023-final.csv')\n",
    "df5 = pd.read_csv('../../SharedData/dataset-generation-final/energy_final.csv')\n",
    "df6 = pd.read_csv('../../SharedData/dataset-generation-final/power_plant_count.csv')"
   ]
  },
  {
   "cell_type": "code",
   "execution_count": 2,
   "metadata": {},
   "outputs": [
    {
     "data": {
      "text/html": [
       "<div>\n",
       "<style scoped>\n",
       "    .dataframe tbody tr th:only-of-type {\n",
       "        vertical-align: middle;\n",
       "    }\n",
       "\n",
       "    .dataframe tbody tr th {\n",
       "        vertical-align: top;\n",
       "    }\n",
       "\n",
       "    .dataframe thead th {\n",
       "        text-align: right;\n",
       "    }\n",
       "</style>\n",
       "<table border=\"1\" class=\"dataframe\">\n",
       "  <thead>\n",
       "    <tr style=\"text-align: right;\">\n",
       "      <th></th>\n",
       "      <th>Unnamed: 0</th>\n",
       "      <th>year</th>\n",
       "      <th>month</th>\n",
       "      <th>state</th>\n",
       "      <th>monthly_num_plants</th>\n",
       "      <th>date</th>\n",
       "      <th>yearly_num_plants</th>\n",
       "    </tr>\n",
       "  </thead>\n",
       "  <tbody>\n",
       "    <tr>\n",
       "      <th>0</th>\n",
       "      <td>0</td>\n",
       "      <td>1997</td>\n",
       "      <td>1</td>\n",
       "      <td>AL</td>\n",
       "      <td>11</td>\n",
       "      <td>1997-01</td>\n",
       "      <td>10</td>\n",
       "    </tr>\n",
       "    <tr>\n",
       "      <th>1</th>\n",
       "      <td>1</td>\n",
       "      <td>1997</td>\n",
       "      <td>1</td>\n",
       "      <td>AR</td>\n",
       "      <td>7</td>\n",
       "      <td>1997-01</td>\n",
       "      <td>6</td>\n",
       "    </tr>\n",
       "    <tr>\n",
       "      <th>2</th>\n",
       "      <td>2</td>\n",
       "      <td>1997</td>\n",
       "      <td>1</td>\n",
       "      <td>AZ</td>\n",
       "      <td>7</td>\n",
       "      <td>1997-01</td>\n",
       "      <td>9</td>\n",
       "    </tr>\n",
       "    <tr>\n",
       "      <th>3</th>\n",
       "      <td>3</td>\n",
       "      <td>1997</td>\n",
       "      <td>1</td>\n",
       "      <td>CA</td>\n",
       "      <td>24</td>\n",
       "      <td>1997-01</td>\n",
       "      <td>24</td>\n",
       "    </tr>\n",
       "    <tr>\n",
       "      <th>4</th>\n",
       "      <td>4</td>\n",
       "      <td>1997</td>\n",
       "      <td>1</td>\n",
       "      <td>CO</td>\n",
       "      <td>14</td>\n",
       "      <td>1997-01</td>\n",
       "      <td>14</td>\n",
       "    </tr>\n",
       "  </tbody>\n",
       "</table>\n",
       "</div>"
      ],
      "text/plain": [
       "   Unnamed: 0  year  month state  monthly_num_plants     date  \\\n",
       "0           0  1997      1    AL                  11  1997-01   \n",
       "1           1  1997      1    AR                   7  1997-01   \n",
       "2           2  1997      1    AZ                   7  1997-01   \n",
       "3           3  1997      1    CA                  24  1997-01   \n",
       "4           4  1997      1    CO                  14  1997-01   \n",
       "\n",
       "   yearly_num_plants  \n",
       "0                 10  \n",
       "1                  6  \n",
       "2                  9  \n",
       "3                 24  \n",
       "4                 14  "
      ]
     },
     "execution_count": 2,
     "metadata": {},
     "output_type": "execute_result"
    }
   ],
   "source": [
    "df6.head()"
   ]
  },
  {
   "cell_type": "code",
   "execution_count": 3,
   "metadata": {},
   "outputs": [],
   "source": [
    "# remove duplicate indexing columns\n",
    "\n",
    "df1 = df1.drop('Unnamed: 0', axis=1)\n",
    "df4 = df4.drop('Unnamed: 0', axis=1)\n",
    "df6 = df6.drop('Unnamed: 0', axis=1)\n",
    "\n",
    "# remove duplicate year/month columns\n",
    "\n",
    "df6 = df6.drop(['year','month'], axis=1)\n",
    "\n",
    "# fix datetime formatting\n",
    "\n",
    "df2['date'] = df2['date'].apply(pd.to_datetime)\n",
    "df2['date'] = df2['date'].dt.strftime('%Y-%m')"
   ]
  },
  {
   "cell_type": "code",
   "execution_count": 4,
   "metadata": {},
   "outputs": [],
   "source": [
    "total_df = df1.merge(df2, on=['state','date'], how='right').merge(df3, on=['state','date'], how='left').merge(df4, on=['state','date'], how='left').merge(df5, on=['state','date'], how='left').merge(df6, on=['state','date'], how='left')"
   ]
  },
  {
   "cell_type": "code",
   "execution_count": 5,
   "metadata": {},
   "outputs": [],
   "source": [
    "total_df['date']=pd.to_datetime(total_df['date'])"
   ]
  },
  {
   "cell_type": "code",
   "execution_count": 6,
   "metadata": {},
   "outputs": [],
   "source": [
    "total_df.to_csv('../../SharedData/total_state_data.csv',index=False)"
   ]
  },
  {
   "cell_type": "code",
   "execution_count": null,
   "metadata": {},
   "outputs": [],
   "source": []
  }
 ],
 "metadata": {
  "kernelspec": {
   "display_name": "erdos_spring_2025",
   "language": "python",
   "name": "python3"
  },
  "language_info": {
   "codemirror_mode": {
    "name": "ipython",
    "version": 3
   },
   "file_extension": ".py",
   "mimetype": "text/x-python",
   "name": "python",
   "nbconvert_exporter": "python",
   "pygments_lexer": "ipython3",
   "version": "3.12.8"
  }
 },
 "nbformat": 4,
 "nbformat_minor": 2
}
