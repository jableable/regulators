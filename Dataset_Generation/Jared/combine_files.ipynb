{
 "cells": [
  {
   "cell_type": "code",
   "execution_count": 58,
   "metadata": {},
   "outputs": [],
   "source": [
    "# here, we combine all .csv files into the single file total_state_data.csv\n",
    "# all .csv files to be combined should be placed in ./Data directory\n",
    "\n",
    "import pandas as pd\n",
    "import warnings\n",
    "warnings.filterwarnings('ignore')\n",
    "\n",
    "df1 = pd.read_csv('./Data/1990-2020-final.csv')\n",
    "df2 = pd.read_csv('./Data/monthly-emissions-1996-2024-final.csv')\n",
    "df3 = pd.read_csv('./Data/monthly-weather-1990-2019-final.csv')\n",
    "df4 = pd.read_csv('./Data/gdp-1997-2023-final-final.csv')\n",
    "df5 = pd.read_csv('./Data/energy_final.csv')"
   ]
  },
  {
   "cell_type": "code",
   "execution_count": 59,
   "metadata": {},
   "outputs": [],
   "source": [
    "# remove duplicate indexing columns\n",
    "\n",
    "df1 = df1.drop('Unnamed: 0', axis=1)\n",
    "df2 = df2.drop('Unnamed: 0', axis=1)\n",
    "df4 = df4.drop('Unnamed: 0', axis=1)"
   ]
  },
  {
   "cell_type": "code",
   "execution_count": 61,
   "metadata": {},
   "outputs": [],
   "source": [
    "total_df = df1.merge(df2, on=['state','date'], how='inner').merge(df3, on=['state','date'], how='inner').merge(df4, on=['state','date'], how='inner').merge(df5, on=['state','date'], how='inner')"
   ]
  },
  {
   "cell_type": "code",
   "execution_count": 62,
   "metadata": {},
   "outputs": [],
   "source": [
    "total_df['date']=pd.to_datetime(total_df['date'])\n",
    "total_df['population'] = total_df['population'].str.replace(',', '')\n",
    "total_df['population'] = total_df['population'].astype(int)"
   ]
  },
  {
   "cell_type": "code",
   "execution_count": 64,
   "metadata": {},
   "outputs": [],
   "source": [
    "total_df.to_csv('./Data/total_state_data.csv',index=False)"
   ]
  }
 ],
 "metadata": {
  "kernelspec": {
   "display_name": "erdos_spring_2025",
   "language": "python",
   "name": "python3"
  },
  "language_info": {
   "codemirror_mode": {
    "name": "ipython",
    "version": 3
   },
   "file_extension": ".py",
   "mimetype": "text/x-python",
   "name": "python",
   "nbconvert_exporter": "python",
   "pygments_lexer": "ipython3",
   "version": "3.12.8"
  }
 },
 "nbformat": 4,
 "nbformat_minor": 2
}
